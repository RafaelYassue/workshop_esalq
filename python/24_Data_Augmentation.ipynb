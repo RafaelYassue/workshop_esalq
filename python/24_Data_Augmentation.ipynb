{
  "nbformat": 4,
  "nbformat_minor": 0,
  "metadata": {
    "colab": {
      "name": "Copy of Copy of Draw_Mask_VIA_csv.ipynb",
      "version": "0.3.2",
      "provenance": [],
      "collapsed_sections": [],
      "toc_visible": true,
      "include_colab_link": true
    },
    "language_info": {
      "codemirror_mode": {
        "name": "ipython",
        "version": 3
      },
      "file_extension": ".py",
      "mimetype": "text/x-python",
      "name": "python",
      "nbconvert_exporter": "python",
      "pygments_lexer": "ipython3",
      "version": "3.6.8"
    },
    "kernelspec": {
      "display_name": "Python 3",
      "language": "python",
      "name": "python3"
    },
    "accelerator": "GPU"
  },
  "cells": [
    {
      "cell_type": "markdown",
      "metadata": {
        "id": "view-in-github",
        "colab_type": "text"
      },
      "source": [
        "<a href=\"https://colab.research.google.com/github/RodrigoAgronomia/workshop_esalq/blob/master/python/24_Data_Augmentation.ipynb\" target=\"_parent\"><img src=\"https://colab.research.google.com/assets/colab-badge.svg\" alt=\"Open In Colab\"/></a>"
      ]
    },
    {
      "cell_type": "markdown",
      "metadata": {
        "colab_type": "text",
        "id": "MV2dDsRrfe-i"
      },
      "source": [
        "## 2.4 Data augmentation"
      ]
    },
    {
      "cell_type": "code",
      "metadata": {
        "colab_type": "code",
        "id": "JDoMj5lmOPVi",
        "colab": {}
      },
      "source": [
        "%%capture\n",
        "!pip install Augmentor\n",
        "%cd /content\n",
        "!git clone --depth 1 https://github.com/RodrigoAgronomia/workshop_esalq.git\n",
        "%cd /content/workshop_esalq\n",
        "!git pull\n",
        "%cd /content/workshop_esalq/python"
      ],
      "execution_count": 0,
      "outputs": []
    },
    {
      "cell_type": "code",
      "metadata": {
        "colab_type": "code",
        "id": "wuq9h3msN237",
        "colab": {}
      },
      "source": [
        "#Importação das bibliotecas necessárias para rodar o código\n",
        "%matplotlib inline\n",
        "\n",
        "import numpy as np\n",
        "import pandas as pd\n",
        "import cv2\n",
        "import os\n",
        "import matplotlib.pyplot as plt\n",
        "import re"
      ],
      "execution_count": 0,
      "outputs": []
    },
    {
      "cell_type": "code",
      "metadata": {
        "id": "2kO366EmuWix",
        "colab_type": "code",
        "colab": {}
      },
      "source": [
        "import Augmentor"
      ],
      "execution_count": 0,
      "outputs": []
    },
    {
      "cell_type": "code",
      "metadata": {
        "colab_type": "code",
        "id": "zYhbPGttN24A",
        "colab": {}
      },
      "source": [
        "#Define o mapa de cores para geração da máscara\n",
        "def colorir(cat):\n",
        "    h, w = cat.shape[:2]\n",
        "    msk = np.zeros((h,w,3), dtype = 'uint8')\n",
        "    msk[cat == 1] = [0,0,255]\n",
        "    msk[cat == 2] = [128,0,0]\n",
        "    msk[cat == 3] = [255,0,0]\n",
        "    msk[cat == 4] = [0,128,0]\n",
        "    msk[cat == 5] = [0,255,0]\n",
        "    return(msk)"
      ],
      "execution_count": 0,
      "outputs": []
    },
    {
      "cell_type": "code",
      "metadata": {
        "colab_type": "code",
        "id": "feypSa7BdvCI",
        "colab": {}
      },
      "source": [
        "def get_mask(imgt):\n",
        "    #Split Image in 3 channels\n",
        "    blue,green,red = cv2.split(imgt)\n",
        "    #Normalize values\n",
        "    green = np.divide(green,255)\n",
        "    red = np.divide(red,255)\n",
        "    blue = np.divide(blue,255)\n",
        "\n",
        "    #Sum of normalized values\n",
        "    norm = red+green+blue\n",
        "\n",
        "    r = np.divide(red, norm, out=np.zeros_like(red), where=norm!=0)\n",
        "    g = np.divide(green, norm, out=np.zeros_like(green), where=norm!=0)\n",
        "    b = np.divide(blue, norm, out=np.zeros_like(blue), where=norm!=0)\n",
        "    \n",
        "    #ExG - ExR\n",
        "    midx = ((2*g) - r - b) - ((1.4*r) - g)\n",
        "\n",
        "    #Binarize image\n",
        "    midx[midx<0] = 0\n",
        "    midx[midx>0] = 1\n",
        "    imager = (midx*255).astype('uint8')\n",
        "    return(imager)"
      ],
      "execution_count": 0,
      "outputs": []
    },
    {
      "cell_type": "code",
      "metadata": {
        "colab_type": "code",
        "id": "JAGc2gGZN24E",
        "colab": {}
      },
      "source": [
        "#Definição das pastas necessárias para rodar o script\n",
        "img_dir = '../data/orig/'\n",
        "s_dir = '../data/seg/imgs_augmented/'\n",
        "anotacao = '../data/anotations.csv'"
      ],
      "execution_count": 0,
      "outputs": []
    },
    {
      "cell_type": "code",
      "metadata": {
        "colab_type": "code",
        "id": "rMz3dQfsN24I",
        "outputId": "d26be725-6f49-41f6-c29f-9be310fdc909",
        "colab": {
          "base_uri": "https://localhost:8080/",
          "height": 54
        }
      },
      "source": [
        "#Apresenta as imagens dentro do diretório com o respectivo formato da imagem\n",
        "img_list = os.listdir(img_dir)\n",
        "img_list = [v for v in img_list if v.endswith('.JPG')]\n",
        "print(img_list)"
      ],
      "execution_count": 10,
      "outputs": [
        {
          "output_type": "stream",
          "text": [
            "['DJI_0411.JPG', 'DJI_0417.JPG', 'DJI_0400.JPG', 'DJI_0393.JPG', 'DJI_0335.JPG', 'DJI_0339.JPG', 'DJI_0337.JPG', 'DJI_0404.JPG', 'DJI_0353.JPG', 'DJI_0419.JPG', 'DJI_0392.JPG', 'DJI_0407.JPG', 'DJI_0399.JPG', 'DJI_0348.JPG', 'DJI_0346.JPG', 'DJI_0406.JPG', 'DJI_0412.JPG', 'DJI_0394.JPG', 'DJI_0413.JPG', 'DJI_0341.JPG', 'DJI_0356.JPG', 'DJI_0350.JPG', 'DJI_0361.JPG', 'DJI_0352.JPG', 'DJI_0421.JPG', 'DJI_0408.JPG', 'DJI_0418.JPG', 'DJI_0351.JPG', 'DJI_0395.JPG', 'DJI_0396.JPG', 'DJI_0355.JPG', 'DJI_0344.JPG', 'DJI_0345.JPG', 'DJI_0360.JPG', 'DJI_0340.JPG', 'DJI_0420.JPG', 'DJI_0332.JPG', 'DJI_0414.JPG', 'DJI_0342.JPG', 'DJI_0397.JPG', 'DJI_0410.JPG', 'DJI_0398.JPG', 'DJI_0358.JPG', 'DJI_0357.JPG', 'DJI_0402.JPG', 'DJI_0354.JPG', 'DJI_0338.JPG', 'DJI_0409.JPG', 'DJI_0405.JPG', 'DJI_0349.JPG', 'DJI_0336.JPG', 'DJI_0403.JPG', 'DJI_0359.JPG', 'DJI_0343.JPG', 'DJI_0334.JPG', 'DJI_0347.JPG', 'DJI_0415.JPG', 'DJI_0333.JPG', 'DJI_0401.JPG', 'DJI_0416.JPG']\n"
          ],
          "name": "stdout"
        }
      ]
    },
    {
      "cell_type": "code",
      "metadata": {
        "colab_type": "code",
        "id": "rkCeOJ8iN24W",
        "outputId": "65bc52e7-1ad0-4f4a-9cdb-bd1772d95932",
        "colab": {
          "base_uri": "https://localhost:8080/",
          "height": 1037
        }
      },
      "source": [
        "n_classes = 6\n",
        "images = []\n",
        "\n",
        "csv_file = pd.read_csv(anotacao,index_col = False) #Faz a leitura do arquivo .csv\n",
        "\n",
        "for img in img_list:\n",
        "    lista = csv_file[csv_file.filename == img] #Recebe os dados encontrados dentro do csv para a imagem em questão\n",
        "    tamanho = lista.shape\n",
        "    if tamanho[0] != 0:\n",
        "        img_name = os.path.join(img_dir, img)\n",
        "        print(img_name) \n",
        "        \n",
        "        imagem = cv2.imread(img_name) #Carrega a imagem em questão\n",
        "\n",
        "        msk = np.zeros(imagem.shape[:2], dtype = 'uint8') #Carrega as informações do tamanho da imagem\n",
        "        # Cria uma mascara auxiliar para o desenho dos circulos ao redor das plantas:\n",
        "        msk0 = msk.copy()\n",
        "        msk1 = msk.copy()\n",
        "        \n",
        "        # Importa a mascara do indice de vegetacao:\n",
        "        mskk = get_mask(imagem)\n",
        "        mskk = (mskk > 100).astype('uint8') \n",
        "\n",
        "    \n",
        "        for i in range(tamanho[0]):\n",
        "            line = lista.iloc[i,:] #Recebe todas as marcações realizadas dentro daquela imagem\n",
        "            region_shape = line.region_shape_attributes #Informa a posição onde o ponto se encontra\n",
        "            region_attributes = (line.region_attributes) #Informa a classe do ponto\n",
        "            region_attributes = re.findall('\"([^\"]*)\"', region_attributes) #Faz a separação para encontrar a qual classe pertence o ponto marcado\n",
        "            coords = [float(s) for s in re.findall(r'-?\\d+\\.?\\d*', region_shape)] #Encontrando valores de x e y\n",
        "            cx = int(coords[0]) #Coordenadas no eixo X\n",
        "            cy = int(coords[1]) #Coordenadas no eixo y\n",
        "\n",
        "            #Define as classes aqui para realizar o desenho da máscara      \n",
        "            if region_attributes[1] == 'Corn':\n",
        "                cv2.circle(msk0, (cx,cy), 80, 2, -1)\n",
        "                cv2.circle(msk1, (cx,cy), 16, 3, -1)\n",
        "                \n",
        "                \n",
        "            if region_attributes[1] == 'Soybean':\n",
        "                cv2.circle(msk0, (cx,cy), 40, 4, -1)\n",
        "                cv2.circle(msk1, (cx,cy), 12, 5, -1)\n",
        "        \n",
        "        #Faz a combinação das mascaras na máscara principal\n",
        "        msk[(msk0==2)&(mskk==1)] = 2\n",
        "        msk[(msk0==4)&(mskk==1)] = 4\n",
        "        msk[(msk1==3)] = 3\n",
        "        msk[(msk1==5)] = 5\n",
        "        msk[(msk==0)&(mskk==1)] = 1\n",
        "        \n",
        "        im_l = [imagem]\n",
        "        for n in range(n_classes):\n",
        "            mskn = msk == n\n",
        "            mskn = 255*mskn.astype('uint8')\n",
        "            im_l.append(mskn)\n",
        "        images.append(im_l)\n",
        "        \n",
        "    else:\n",
        "        print('A imagem'+' '+img+' '+'não possui anotação no .csv apresentado') #Apresenta uma mensagem caso a imagem lida não apresente informações dentro do .csv"
      ],
      "execution_count": 12,
      "outputs": [
        {
          "output_type": "stream",
          "text": [
            "../data/orig/DJI_0411.JPG\n",
            "../data/orig/DJI_0417.JPG\n",
            "../data/orig/DJI_0400.JPG\n",
            "../data/orig/DJI_0393.JPG\n",
            "../data/orig/DJI_0335.JPG\n",
            "../data/orig/DJI_0339.JPG\n",
            "../data/orig/DJI_0337.JPG\n",
            "../data/orig/DJI_0404.JPG\n",
            "../data/orig/DJI_0353.JPG\n",
            "../data/orig/DJI_0419.JPG\n",
            "../data/orig/DJI_0392.JPG\n",
            "../data/orig/DJI_0407.JPG\n",
            "../data/orig/DJI_0399.JPG\n",
            "../data/orig/DJI_0348.JPG\n",
            "../data/orig/DJI_0346.JPG\n",
            "../data/orig/DJI_0406.JPG\n",
            "../data/orig/DJI_0412.JPG\n",
            "../data/orig/DJI_0394.JPG\n",
            "../data/orig/DJI_0413.JPG\n",
            "../data/orig/DJI_0341.JPG\n",
            "../data/orig/DJI_0356.JPG\n",
            "../data/orig/DJI_0350.JPG\n",
            "../data/orig/DJI_0361.JPG\n",
            "../data/orig/DJI_0352.JPG\n",
            "../data/orig/DJI_0421.JPG\n",
            "../data/orig/DJI_0408.JPG\n",
            "../data/orig/DJI_0418.JPG\n",
            "../data/orig/DJI_0351.JPG\n",
            "../data/orig/DJI_0395.JPG\n",
            "../data/orig/DJI_0396.JPG\n",
            "../data/orig/DJI_0355.JPG\n",
            "../data/orig/DJI_0344.JPG\n",
            "../data/orig/DJI_0345.JPG\n",
            "../data/orig/DJI_0360.JPG\n",
            "../data/orig/DJI_0340.JPG\n",
            "../data/orig/DJI_0420.JPG\n",
            "../data/orig/DJI_0332.JPG\n",
            "../data/orig/DJI_0414.JPG\n",
            "../data/orig/DJI_0342.JPG\n",
            "../data/orig/DJI_0397.JPG\n",
            "../data/orig/DJI_0410.JPG\n",
            "../data/orig/DJI_0398.JPG\n",
            "../data/orig/DJI_0358.JPG\n",
            "../data/orig/DJI_0357.JPG\n",
            "../data/orig/DJI_0402.JPG\n",
            "../data/orig/DJI_0354.JPG\n",
            "../data/orig/DJI_0338.JPG\n",
            "../data/orig/DJI_0409.JPG\n",
            "../data/orig/DJI_0405.JPG\n",
            "../data/orig/DJI_0349.JPG\n",
            "../data/orig/DJI_0336.JPG\n",
            "../data/orig/DJI_0403.JPG\n",
            "../data/orig/DJI_0359.JPG\n",
            "../data/orig/DJI_0343.JPG\n",
            "../data/orig/DJI_0334.JPG\n",
            "../data/orig/DJI_0347.JPG\n",
            "../data/orig/DJI_0415.JPG\n",
            "../data/orig/DJI_0333.JPG\n",
            "../data/orig/DJI_0401.JPG\n",
            "../data/orig/DJI_0416.JPG\n"
          ],
          "name": "stdout"
        }
      ]
    },
    {
      "cell_type": "code",
      "metadata": {
        "colab_type": "code",
        "id": "3ZT2kDaafGLW",
        "colab": {}
      },
      "source": [
        "p = Augmentor.DataPipeline(images)\n",
        "\n",
        "p.crop_by_size(1, 256, 256, centre = False)\n",
        "p.zoom_random(probability=0.5, percentage_area=0.8)\n",
        "p.rotate90(probability=0.5)\n",
        "p.rotate270(probability=0.5)\n",
        "p.rotate(probability=0.5, max_left_rotation=25, max_right_rotation=25)\n",
        "p.flip_left_right(probability=0.5)\n",
        "p.flip_top_bottom(probability=0.5)\n",
        "p.random_distortion(probability=0.5, grid_width=4, grid_height=4, magnitude=8)\n",
        "p.histogram_equalisation(0.25)\n",
        "p.resize(probability=1.0, width=256, height=256)"
      ],
      "execution_count": 0,
      "outputs": []
    },
    {
      "cell_type": "code",
      "metadata": {
        "id": "953m6LBTuWjB",
        "colab_type": "code",
        "colab": {}
      },
      "source": [
        "augmented_images = p.sample(100)"
      ],
      "execution_count": 0,
      "outputs": []
    },
    {
      "cell_type": "code",
      "metadata": {
        "id": "BGK7-ldvuWjD",
        "colab_type": "code",
        "colab": {}
      },
      "source": [
        "try:\n",
        "    os.mkdir(s_dir)\n",
        "except:\n",
        "    pass\n",
        "for i, img in enumerate(augmented_images):\n",
        "    img_name = 'RGB_{0:04d}_img.jpg'.format(i + 1)\n",
        "    msk_name = 'RGB_{0:04d}_msk.png'.format(i + 1)\n",
        "    msk_col_name = 'RGB_{0:04d}_col.png'.format(i + 1)\n",
        "    msk = np.array(img[1:]).argmax(0)\n",
        "    if np.sum((msk == 3) + (msk == 5)) > 10:\n",
        "        cv2.imwrite(os.path.join(s_dir, img_name), img[0])\n",
        "        cv2.imwrite(os.path.join(s_dir, msk_name), msk)    \n",
        "        cv2.imwrite(os.path.join(s_dir, msk_col_name), colorir(msk))    \n"
      ],
      "execution_count": 0,
      "outputs": []
    },
    {
      "cell_type": "code",
      "metadata": {
        "id": "WVICKf4av9VC",
        "colab_type": "code",
        "colab": {}
      },
      "source": [
        ""
      ],
      "execution_count": 0,
      "outputs": []
    }
  ]
}