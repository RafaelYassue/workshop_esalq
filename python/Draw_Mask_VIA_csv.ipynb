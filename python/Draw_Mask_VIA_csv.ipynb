{
 "cells": [
  {
   "cell_type": "markdown",
   "metadata": {},
   "source": [
    "Draw mask from VIA - .csv file"
   ]
  },
  {
   "cell_type": "code",
   "execution_count": 1,
   "metadata": {},
   "outputs": [],
   "source": [
    "#Importação das bibliotecas necessárias para rodar o código\n",
    "%matplotlib inline\n",
    "\n",
    "import numpy as np\n",
    "import pandas as pd\n",
    "import cv2\n",
    "import os\n",
    "import matplotlib.pyplot as plt\n",
    "import re"
   ]
  },
  {
   "cell_type": "code",
   "execution_count": 2,
   "metadata": {},
   "outputs": [],
   "source": [
    "#Define o mapa de cores para geração da máscara\n",
    "def colorir(cat):\n",
    "    h, w = cat.shape[:2]\n",
    "    msk = np.zeros((h,w,3), dtype = 'uint8')\n",
    "    msk[cat == 1] = [255,255,255]\n",
    "    msk[cat == 2] = [128,0,0]\n",
    "    msk[cat == 3] = [255,0,0]\n",
    "    msk[cat == 4] = [0,128,0]\n",
    "    msk[cat == 5] = [0,255,0]\n",
    "    msk[cat == 6] = [0,0,255]\n",
    "    return(msk)"
   ]
  },
  {
   "cell_type": "code",
   "execution_count": 3,
   "metadata": {},
   "outputs": [],
   "source": [
    "def get_mask(imgt):\n",
    "    #Split Image in 3 channels\n",
    "    blue,green,red = cv2.split(imgt)\n",
    "    #Normalize values\n",
    "    green = np.divide(green,255)\n",
    "    red = np.divide(red,255)\n",
    "    blue = np.divide(blue,255)\n",
    "\n",
    "    #Sum of normalized values\n",
    "    norm = red+green+blue\n",
    "\n",
    "    r = np.divide(red, norm, out=np.zeros_like(red), where=norm!=0)\n",
    "    g = np.divide(green, norm, out=np.zeros_like(green), where=norm!=0)\n",
    "    b = np.divide(blue, norm, out=np.zeros_like(blue), where=norm!=0)\n",
    "    \n",
    "    #ExG - ExR\n",
    "    midx = ((2*g) - r - b) - ((1.4*r) - g)\n",
    "\n",
    "    #Binarize image\n",
    "    midx[midx<0] = 0\n",
    "    midx[midx>0] = 1\n",
    "    imager = (midx*255).astype('uint8')\n",
    "    return(imager)"
   ]
  },
  {
   "cell_type": "code",
   "execution_count": 4,
   "metadata": {},
   "outputs": [],
   "source": [
    "#Definição das pastas necessárias para rodar o script\n",
    "img_dir = 'C:/Users/mhmce/SmartAgri/Curso_Deep_Learning/Corn/'\n",
    "pts_dir = 'C:/Users/mhmce/SmartAgri/Curso_Deep_Learning/pts/'\n",
    "pts_col_dir = 'C:/Users/mhmce/SmartAgri/Curso_Deep_Learning/pts_col/'\n",
    "anotacao = 'C:/Users/mhmce/SmartAgri/Curso_Deep_Learning/via_region_data_FS.csv'"
   ]
  },
  {
   "cell_type": "code",
   "execution_count": 5,
   "metadata": {},
   "outputs": [
    {
     "name": "stdout",
     "output_type": "stream",
     "text": [
      "['DJI_0392.JPG', 'DJI_0393.JPG', 'DJI_0394.JPG', 'DJI_0420.JPG']\n"
     ]
    }
   ],
   "source": [
    "#Apresenta as imagens dentro do diretório com o respectivo formato da imagem\n",
    "img_list = os.listdir(img_dir)\n",
    "img_list = [v for v in img_list if v.endswith('.JPG')]\n",
    "print(img_list)"
   ]
  },
  {
   "cell_type": "code",
   "execution_count": 25,
   "metadata": {},
   "outputs": [
    {
     "name": "stdout",
     "output_type": "stream",
     "text": [
      "C:/Users/mhmce/SmartAgri/Curso_Deep_Learning/pts/DJI_0392.png\n",
      "C:/Users/mhmce/SmartAgri/Curso_Deep_Learning/pts/DJI_0393.png\n",
      "C:/Users/mhmce/SmartAgri/Curso_Deep_Learning/pts/DJI_0394.png\n",
      "A imagem DJI_0420.JPG não possui anotação no .csv apresentado\n"
     ]
    }
   ],
   "source": [
    "csv_file = pd.read_csv(anotacao,index_col = False) #Faz a leitura do arquivo .csv\n",
    "\n",
    "for img in img_list:\n",
    "    lista = csv_file[csv_file.filename == img] #Recebe os dados encontrados dentro do csv para a imagem em questão\n",
    "    tamanho = lista.shape\n",
    "    imagem = cv2.imread(img_dir+img) #Carrega a imagem em questão\n",
    "    msk = np.zeros(imagem.shape[:2], dtype = 'uint8') #Carrega as informações do tamanho da imagem\n",
    "    # Cria uma mascara auxiliar para o desenho dos circulos ao redor das plantas:\n",
    "    msk0 = msk.copy()            \n",
    "    # Importa a mascara do indice de vegetacao:\n",
    "    mskk = get_mask(imagem)\n",
    "    mskk = (mskk > 100).astype('uint8') \n",
    "    msk_name = os.path.join(pts_dir, img.replace('.JPG', '.png')) #Faz a junção do diretório com o nome da imagem, alterando seu formato\n",
    "\n",
    "    \n",
    "    if tamanho[0] != 0:\n",
    "        for i in range(tamanho[0]):\n",
    "            line = lista.iloc[i,:] #Recebe todas as marcações realizadas dentro daquela imagem\n",
    "            region_shape = line.region_shape_attributes #Informa a posição onde o ponto se encontra\n",
    "            region_attributes = (line.region_attributes) #Informa a classe do ponto\n",
    "            region_attributes = re.findall('\"([^\"]*)\"', region_attributes) #Faz a separação para encontrar a qual classe pertence o ponto marcado\n",
    "            coords = [float(s) for s in re.findall(r'-?\\d+\\.?\\d*', region_shape)] #Encontrando valores de x e y\n",
    "            cx = int(coords[0]) #Coordenadas no eixo X\n",
    "            cy = int(coords[1]) #Coordenadas no eixo y\n",
    "\n",
    "            #Define as classes aqui para realizar o desenho da máscara      \n",
    "            if region_attributes[1] == 'Corn':\n",
    "                cv2.circle(msk0, (cx,cy), 50, 2, -1)\n",
    "                \n",
    "            if region_attributes[1] == 'Corn':\n",
    "                cv2.circle(msk0, (cx,cy), 10, 6, -1)\n",
    "        \n",
    "        #Faz a combinação das mascaras na máscara principal\n",
    "        msk[(msk0==2)&(mskk==1)] = 2\n",
    "        msk[(msk0==6)&(mskk==1)] = 6\n",
    "                \n",
    "        print(msk_name) #Apresenta o nome da máscara com o diretório a ser salvo\n",
    "        cv2.imwrite(msk_name, msk) #Realiza o salvamento do background\n",
    "    \n",
    "        col_msk = colorir(msk) #Realiza a coloração da máscara\n",
    "        col_msk_name = os.path.join(pts_col_dir, img.replace('.JPG', '.png')) #Faz a junção do diretório com o nome da imagem, alterando seu formato\n",
    "        cv2.imwrite(col_msk_name, col_msk) #Realiza o salvamento da máscara já colorida\n",
    "        \n",
    "    if tamanho[0] == 0:\n",
    "        print('A imagem'+' '+img+' '+'não possui anotação no .csv apresentado') #Apresenta uma mensagem caso a imagem lida não apresente informações dentro do .csv"
   ]
  },
  {
   "cell_type": "code",
   "execution_count": null,
   "metadata": {},
   "outputs": [],
   "source": []
  }
 ],
 "metadata": {
  "kernelspec": {
   "display_name": "Python 3",
   "language": "python",
   "name": "python3"
  },
  "language_info": {
   "codemirror_mode": {
    "name": "ipython",
    "version": 3
   },
   "file_extension": ".py",
   "mimetype": "text/x-python",
   "name": "python",
   "nbconvert_exporter": "python",
   "pygments_lexer": "ipython3",
   "version": "3.6.8"
  }
 },
 "nbformat": 4,
 "nbformat_minor": 2
}
