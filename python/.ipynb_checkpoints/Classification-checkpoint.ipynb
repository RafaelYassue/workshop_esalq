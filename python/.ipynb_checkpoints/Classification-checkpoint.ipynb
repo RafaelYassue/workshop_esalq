{
 "cells": [
  {
   "cell_type": "code",
   "execution_count": 3,
   "metadata": {
    "colab": {
     "base_uri": "https://localhost:8080/",
     "height": 34
    },
    "colab_type": "code",
    "id": "gnj6C9KNqTcC",
    "outputId": "8542178e-1c04-444b-ec4c-d3799987266e"
   },
   "outputs": [],
   "source": [
    "# !git clone https://github.com/RodrigoAgronomia/workshop_esalq.git"
   ]
  },
  {
   "cell_type": "code",
   "execution_count": 4,
   "metadata": {
    "colab": {
     "base_uri": "https://localhost:8080/",
     "height": 692
    },
    "colab_type": "code",
    "id": "4CUcBO5M1IGP",
    "outputId": "0d6e0dbb-beee-4e1a-dd86-8ae44900749f"
   },
   "outputs": [],
   "source": [
    "# !pip install livelossplot"
   ]
  },
  {
   "cell_type": "code",
   "execution_count": 6,
   "metadata": {
    "colab": {},
    "colab_type": "code",
    "id": "i9zFfLR2rM6Y"
   },
   "outputs": [],
   "source": [
    "import os\n",
    "import cv2\n",
    "import time\n",
    "import json\n",
    "import numpy as np\n",
    "\n",
    "import torch\n",
    "import torch.nn.functional as F\n",
    "\n",
    "import matplotlib.pyplot as plt\n",
    "from torch.autograd import Variable\n",
    "from torch.utils.data import Dataset, DataLoader\n",
    "from torchsummary import summary\n",
    "from livelossplot import PlotLosses"
   ]
  },
  {
   "cell_type": "code",
   "execution_count": 7,
   "metadata": {
    "colab": {
     "base_uri": "https://localhost:8080/",
     "height": 34
    },
    "colab_type": "code",
    "id": "GSa1p6TSrUUg",
    "outputId": "cb5da340-5af2-4ff6-d5ed-fc6433ffd03c"
   },
   "outputs": [
    {
     "name": "stdout",
     "output_type": "stream",
     "text": [
      "cuda\n"
     ]
    }
   ],
   "source": [
    "device = 'cuda' if torch.cuda.is_available() else 'cpu'\n",
    "print(device)"
   ]
  },
  {
   "cell_type": "code",
   "execution_count": 8,
   "metadata": {
    "colab": {},
    "colab_type": "code",
    "id": "pKCOApcW0NOW"
   },
   "outputs": [],
   "source": [
    "class CNNModel(torch.nn.Module):\n",
    "    def __init__(self, n_classes):\n",
    "        super(CNNModel, self).__init__()\n",
    "        \n",
    "        # Convolution 0\n",
    "        self.cnn0 = torch.nn.Conv2d(in_channels=3, out_channels=32, kernel_size=3, stride=1, padding=1)\n",
    "        self.bn0 = torch.nn.BatchNorm2d(32)\n",
    "        self.mxp0 = torch.nn.MaxPool2d(2)\n",
    "        self.relu0 = torch.nn.ReLU()\n",
    "        \n",
    "        # Convolution 1\n",
    "        self.cnn1 = torch.nn.Conv2d(in_channels=32, out_channels=20, kernel_size=5, stride=1, padding=2)\n",
    "        self.bn1 = torch.nn.BatchNorm2d(20)\n",
    "        self.mxp1 = torch.nn.MaxPool2d(2)\n",
    "        self.relu1 = torch.nn.ReLU()\n",
    "        \n",
    "        # Convolution 2\n",
    "        self.cnn2 = torch.nn.Conv2d(in_channels=20, out_channels=12, kernel_size=7, stride=1, padding=3)\n",
    "        self.bn2 = torch.nn.BatchNorm2d(12)\n",
    "        self.mxp2 = torch.nn.MaxPool2d(2)\n",
    "        self.relu2 = torch.nn.ReLU()\n",
    "        \n",
    "        # Convolution 3\n",
    "        self.cnn3 = torch.nn.Conv2d(in_channels=12, out_channels=8, kernel_size=9, stride=1, padding=4)\n",
    "        self.bn3 = torch.nn.BatchNorm2d(8)\n",
    "        self.mxp3 = torch.nn.MaxPool2d(2)\n",
    "        self.relu3 = torch.nn.ReLU()\n",
    "        \n",
    "        \n",
    "        self.prep = torch.nn.AdaptiveMaxPool2d(2)\n",
    "        self.pred = torch.nn.Linear(32, n_classes)\n",
    "        torch.nn.Softmax\n",
    "\n",
    "        \n",
    "    def forward(self, x):\n",
    "        # Convolution 1\n",
    "        out = self.relu0(self.mxp0(self.bn0(self.cnn0(x))))\n",
    "        out = self.relu1(self.mxp1(self.bn1(self.cnn1(out))))\n",
    "        out = self.relu2(self.mxp2(self.bn2(self.cnn2(out))))\n",
    "        out = self.relu3(self.mxp3(self.bn3(self.cnn3(out))))\n",
    "        out = self.prep(out).view(-1, 32)\n",
    "        out = self.pred(out) \n",
    "        return F.log_softmax(out, dim=1)"
   ]
  },
  {
   "cell_type": "code",
   "execution_count": 9,
   "metadata": {
    "colab": {},
    "colab_type": "code",
    "id": "cml5bJhdsUaz"
   },
   "outputs": [],
   "source": [
    "class MyDataset(torch.utils.data.Dataset):\n",
    "    def __init__(self, im_dir, imList):\n",
    "        data = []\n",
    "        for idx in range(len(imList)):\n",
    "            image_name = imList[idx]\n",
    "            image = cv2.imread(os.path.join(im_dir, image_name))\n",
    "            image = np.moveaxis(image, 2, 0)\n",
    "            image = image.astype('float')\n",
    "            image -= 128\n",
    "            image /= 35\n",
    "\n",
    "            label = int(image_name[4]) - 1\n",
    "\n",
    "            image = torch.from_numpy(image)\n",
    "            label = torch.from_numpy(np.array([label]))\n",
    "            data.append([image, label])\n",
    "        self.data = data\n",
    "\n",
    "    def __len__(self):\n",
    "        return len(self.data)\n",
    "\n",
    "    def __getitem__(self, idx):\n",
    "        '''\n",
    "\n",
    "        :param idx: Index of the image file\n",
    "        :return: returns the image and corresponding label file.\n",
    "        '''\n",
    "        image, label = self.data[idx]\n",
    "        images = Variable(image).to(device, dtype=torch.float)\n",
    "        label = Variable(label).to(device, dtype=torch.long)\n",
    "        \n",
    "        return (images, label)"
   ]
  },
  {
   "cell_type": "code",
   "execution_count": 11,
   "metadata": {
    "colab": {},
    "colab_type": "code",
    "id": "hvdu3i2WrNcZ"
   },
   "outputs": [],
   "source": [
    "# Diretório das imagens\n",
    "im_dir = '../data/class' \n",
    "\n",
    "imgs = np.array(sorted(os.listdir(im_dir)))\n",
    "\n",
    "im_train = np.arange(len(imgs))\n",
    "im_val = np.random.choice(im_train, 30, replace=False)\n",
    "im_train = np.setdiff1d(im_train,im_val)\n"
   ]
  },
  {
   "cell_type": "code",
   "execution_count": 12,
   "metadata": {
    "colab": {},
    "colab_type": "code",
    "id": "yujzWgF9rtUg"
   },
   "outputs": [],
   "source": [
    "train_dataset =  MyDataset(im_dir, imgs[im_train])\n",
    "val_dataset =  MyDataset(im_dir, imgs[im_val])"
   ]
  },
  {
   "cell_type": "code",
   "execution_count": 13,
   "metadata": {
    "colab": {},
    "colab_type": "code",
    "id": "4sALwqfoxZhU"
   },
   "outputs": [],
   "source": [
    "# Carrega o dataset de treinamento\n",
    "train_loader = torch.utils.data.DataLoader(train_dataset,\n",
    "                          batch_size=10,\n",
    "                          shuffle=True,\n",
    "                          num_workers=0\n",
    "                         )\n",
    "\n",
    "# Carrega o dataset de validação\n",
    "val_loader = torch.utils.data.DataLoader(val_dataset,\n",
    "                          batch_size=10,\n",
    "                          shuffle=False,\n",
    "                          num_workers=0\n",
    "                         )"
   ]
  },
  {
   "cell_type": "code",
   "execution_count": 14,
   "metadata": {
    "colab": {},
    "colab_type": "code",
    "id": "j5WGQKUT0nS_"
   },
   "outputs": [],
   "source": [
    "n_classes = 3\n",
    "model = CNNModel(n_classes)\n",
    "model = model.to(device)\n",
    "liveloss = PlotLosses()"
   ]
  },
  {
   "cell_type": "code",
   "execution_count": 15,
   "metadata": {
    "colab": {
     "base_uri": "https://localhost:8080/",
     "height": 538
    },
    "colab_type": "code",
    "id": "7lzke-t5-HjR",
    "outputId": "84f1c04f-77e0-4ed3-ed5d-952cd9f4bec8"
   },
   "outputs": [
    {
     "name": "stdout",
     "output_type": "stream",
     "text": [
      "----------------------------------------------------------------\n",
      "        Layer (type)               Output Shape         Param #\n",
      "================================================================\n",
      "            Conv2d-1         [-1, 32, 128, 128]             896\n",
      "       BatchNorm2d-2         [-1, 32, 128, 128]              64\n",
      "         MaxPool2d-3           [-1, 32, 64, 64]               0\n",
      "              ReLU-4           [-1, 32, 64, 64]               0\n",
      "            Conv2d-5           [-1, 20, 64, 64]          16,020\n",
      "       BatchNorm2d-6           [-1, 20, 64, 64]              40\n",
      "         MaxPool2d-7           [-1, 20, 32, 32]               0\n",
      "              ReLU-8           [-1, 20, 32, 32]               0\n",
      "            Conv2d-9           [-1, 12, 32, 32]          11,772\n",
      "      BatchNorm2d-10           [-1, 12, 32, 32]              24\n",
      "        MaxPool2d-11           [-1, 12, 16, 16]               0\n",
      "             ReLU-12           [-1, 12, 16, 16]               0\n",
      "           Conv2d-13            [-1, 8, 16, 16]           7,784\n",
      "      BatchNorm2d-14            [-1, 8, 16, 16]              16\n",
      "        MaxPool2d-15              [-1, 8, 8, 8]               0\n",
      "             ReLU-16              [-1, 8, 8, 8]               0\n",
      "AdaptiveMaxPool2d-17              [-1, 8, 2, 2]               0\n",
      "           Linear-18                    [-1, 3]              99\n",
      "================================================================\n",
      "Total params: 36,715\n",
      "Trainable params: 36,715\n",
      "Non-trainable params: 0\n",
      "----------------------------------------------------------------\n",
      "Input size (MB): 0.19\n",
      "Forward/backward pass size (MB): 11.84\n",
      "Params size (MB): 0.14\n",
      "Estimated Total Size (MB): 12.16\n",
      "----------------------------------------------------------------\n"
     ]
    }
   ],
   "source": [
    "summary(model, input_size=(n_classes, 128, 128))\n"
   ]
  },
  {
   "cell_type": "code",
   "execution_count": 16,
   "metadata": {
    "colab": {},
    "colab_type": "code",
    "id": "au3bqdoiz33E"
   },
   "outputs": [],
   "source": [
    "criterion = torch.nn.CrossEntropyLoss()\n",
    "learning_rate = 1e-4\n",
    "optimizer = torch.optim.Adam(model.parameters(), learning_rate, (0.9, 0.999), eps=1e-08, weight_decay=5e-4)"
   ]
  },
  {
   "cell_type": "code",
   "execution_count": 18,
   "metadata": {
    "colab": {
     "base_uri": "https://localhost:8080/",
     "height": 393
    },
    "colab_type": "code",
    "id": "pwyvPGRs0l5t",
    "outputId": "31233e5b-6e58-458e-e3d7-8bcc4b1e590d"
   },
   "outputs": [
    {
     "data": {
      "image/png": "[encoded data removed]",
      "text/plain": [
       "<Figure size 864x576 with 1 Axes>"
      ]
     },
     "metadata": {
      "needs_background": "light"
     },
     "output_type": "display_data"
    },
    {
     "name": "stdout",
     "output_type": "stream",
     "text": [
      "log loss:\n",
      "training   (min:    0.007, max:    1.019, cur:    0.010)\n",
      "validation (min:    0.052, max:    1.002, cur:    0.053)\n",
      "[100] loss: 0.010 time:1.62\n"
     ]
    }
   ],
   "source": [
    "min_loss = 1\n",
    "for epoch in range(101):\n",
    "    start_time = time.time()\n",
    "    epoch_loss = []\n",
    "    val_loss = []\n",
    "    \n",
    "    model.train()\n",
    "    for i, (images, labels) in enumerate(train_loader):\n",
    "        \n",
    "        # Limpa os gradientes\n",
    "        optimizer.zero_grad()\n",
    "    \n",
    "        # Obtem o output\n",
    "        outputs = model(images)\n",
    "\n",
    "        # Caulcula a perda pela loss function\n",
    "        loss = criterion(outputs, labels.reshape(-1))\n",
    "\n",
    "        # Obtem os gradientes\n",
    "        loss.backward()\n",
    "\n",
    "        # Atualiza os parâmetros\n",
    "        optimizer.step()\n",
    "        epoch_loss.append(loss.data.item())\n",
    "        \n",
    "    model.eval()\n",
    "    for i, (images, labels) in enumerate(val_loader):\n",
    "        with torch.no_grad():\n",
    "          # Obtem o output\n",
    "          outputs = model(images)\n",
    "\n",
    "        # Caulcula a perda pela loss function (MSE)\n",
    "        loss = criterion(outputs, labels.reshape(-1))\n",
    "\n",
    "        val_loss.append(loss.data.item())\n",
    "        \n",
    "    epoch_loss = np.array(epoch_loss).mean()\n",
    "    val_loss = np.array(val_loss).mean()\n",
    "    time_taken = time.time() - start_time\n",
    "    \n",
    "    if val_loss < min_loss:\n",
    "      #save the model\n",
    "      model_file_name = '../data/models/model_3class.pth'\n",
    "      torch.save(model.state_dict(), model_file_name)\n",
    "\n",
    "    liveloss.update({\n",
    "        'log loss': epoch_loss,\n",
    "        'val_log loss': val_loss\n",
    "    })\n",
    "    liveloss.draw()\n",
    "    print('[%d] loss: %.3f time:%.2f' % (epoch, epoch_loss, time_taken))"
   ]
  },
  {
   "cell_type": "code",
   "execution_count": 19,
   "metadata": {
    "colab": {
     "base_uri": "https://localhost:8080/",
     "height": 34
    },
    "colab_type": "code",
    "id": "1a3B1OfZ2EwM",
    "outputId": "9b4f10dc-725c-466c-9788-4852f967388b"
   },
   "outputs": [
    {
     "name": "stdout",
     "output_type": "stream",
     "text": [
      "Modelo OK\n"
     ]
    }
   ],
   "source": [
    "n_classes = 3\n",
    "model = CNNModel(n_classes)\n",
    "model = model.to(device)\n",
    "\n",
    "# Carrega os pesos de um modelo salvo\n",
    "model.load_state_dict(torch.load('../data/models/model_3class.pth', map_location=device))\n",
    "\n",
    "print('Modelo OK')"
   ]
  },
  {
   "cell_type": "code",
   "execution_count": 20,
   "metadata": {
    "colab": {
     "base_uri": "https://localhost:8080/",
     "height": 34
    },
    "colab_type": "code",
    "id": "e5tHUWze558V",
    "outputId": "582d31fa-5180-49ce-f6a5-80a7e3f6b4bd"
   },
   "outputs": [
    {
     "name": "stdout",
     "output_type": "stream",
     "text": [
      "time:0.07\n"
     ]
    }
   ],
   "source": [
    "start_time = time.time()\n",
    "\n",
    "model.eval()\n",
    "obs = []\n",
    "preds = []\n",
    "for i, (images, labels) in enumerate(val_loader):\n",
    "    obs.append(labels.cpu().data.numpy())\n",
    "    with torch.no_grad():\n",
    "      pred = F.softmax(model(images), 1)\n",
    "    preds.append(pred.cpu().data.numpy())\n",
    "obs = np.concatenate(obs).reshape(-1)\n",
    "preds = np.concatenate(preds)\n",
    "\n",
    "          \n",
    "time_taken = time.time() - start_time\n",
    "print('time:%.2f' % (time_taken))\n"
   ]
  },
  {
   "cell_type": "code",
   "execution_count": 21,
   "metadata": {
    "colab": {
     "base_uri": "https://localhost:8080/",
     "height": 521
    },
    "colab_type": "code",
    "id": "uxqri8y08kZa",
    "outputId": "2ddbc9d6-2080-4be5-9fb9-bab8f36eead2"
   },
   "outputs": [
    {
     "data": {
      "text/plain": [
       "array([[0.001, 0.995, 0.005],\n",
       "       [0.   , 0.998, 0.001],\n",
       "       [0.003, 0.988, 0.009],\n",
       "       [0.008, 0.003, 0.989],\n",
       "       [0.03 , 0.015, 0.955],\n",
       "       [0.001, 0.97 , 0.029],\n",
       "       [0.965, 0.022, 0.012],\n",
       "       [0.002, 0.989, 0.009],\n",
       "       [0.583, 0.004, 0.413],\n",
       "       [0.154, 0.009, 0.837],\n",
       "       [0.005, 0.004, 0.991],\n",
       "       [0.   , 0.999, 0.001],\n",
       "       [0.002, 0.996, 0.002],\n",
       "       [0.766, 0.081, 0.153],\n",
       "       [0.   , 0.002, 0.997],\n",
       "       [0.02 , 0.003, 0.977],\n",
       "       [0.002, 0.931, 0.067],\n",
       "       [0.986, 0.005, 0.009],\n",
       "       [0.006, 0.974, 0.02 ],\n",
       "       [0.93 , 0.042, 0.028],\n",
       "       [0.049, 0.005, 0.946],\n",
       "       [0.002, 0.015, 0.983],\n",
       "       [0.988, 0.005, 0.007],\n",
       "       [0.935, 0.044, 0.021],\n",
       "       [0.001, 0.996, 0.003],\n",
       "       [0.001, 0.995, 0.004],\n",
       "       [0.   , 0.003, 0.997],\n",
       "       [0.943, 0.03 , 0.027],\n",
       "       [0.002, 0.001, 0.997],\n",
       "       [0.006, 0.007, 0.987]], dtype=float32)"
      ]
     },
     "execution_count": 21,
     "metadata": {},
     "output_type": "execute_result"
    }
   ],
   "source": [
    "np.round(preds,3)"
   ]
  },
  {
   "cell_type": "code",
   "execution_count": 22,
   "metadata": {
    "colab": {
     "base_uri": "https://localhost:8080/",
     "height": 521
    },
    "colab_type": "code",
    "id": "TvzldMm_7dEl",
    "outputId": "aecfff76-07b0-462c-ee61-c58056ac3c2f"
   },
   "outputs": [
    {
     "data": {
      "text/plain": [
       "array([[1, 1],\n",
       "       [1, 1],\n",
       "       [1, 1],\n",
       "       [2, 2],\n",
       "       [2, 2],\n",
       "       [1, 1],\n",
       "       [0, 0],\n",
       "       [1, 1],\n",
       "       [0, 0],\n",
       "       [2, 2],\n",
       "       [2, 2],\n",
       "       [1, 1],\n",
       "       [1, 1],\n",
       "       [0, 0],\n",
       "       [2, 2],\n",
       "       [2, 2],\n",
       "       [1, 1],\n",
       "       [0, 0],\n",
       "       [1, 1],\n",
       "       [0, 0],\n",
       "       [2, 2],\n",
       "       [2, 2],\n",
       "       [0, 0],\n",
       "       [0, 0],\n",
       "       [1, 1],\n",
       "       [1, 1],\n",
       "       [2, 2],\n",
       "       [0, 0],\n",
       "       [2, 2],\n",
       "       [2, 2]], dtype=int64)"
      ]
     },
     "execution_count": 22,
     "metadata": {},
     "output_type": "execute_result"
    }
   ],
   "source": [
    "np.stack([obs, preds.argmax(1)]).transpose()"
   ]
  },
  {
   "cell_type": "code",
   "execution_count": 0,
   "metadata": {
    "colab": {},
    "colab_type": "code",
    "id": "lFO-E8Q8BIiW"
   },
   "outputs": [],
   "source": []
  }
 ],
 "metadata": {
  "accelerator": "GPU",
  "colab": {
   "collapsed_sections": [],
   "name": "Module_01.ipynb",
   "provenance": [],
   "version": "0.3.2"
  },
  "kernelspec": {
   "display_name": "Python 3",
   "language": "python",
   "name": "python3"
  },
  "language_info": {
   "codemirror_mode": {
    "name": "ipython",
    "version": 3
   },
   "file_extension": ".py",
   "mimetype": "text/x-python",
   "name": "python",
   "nbconvert_exporter": "python",
   "pygments_lexer": "ipython3",
   "version": "3.7.1"
  }
 },
 "nbformat": 4,
 "nbformat_minor": 1
}
