{
  "nbformat": 4,
  "nbformat_minor": 0,
  "metadata": {
    "colab": {
      "name": "Copy of Draw_Mask_VIA_csv.ipynb",
      "version": "0.3.2",
      "provenance": [],
      "collapsed_sections": [],
      "include_colab_link": true
    },
    "language_info": {
      "codemirror_mode": {
        "name": "ipython",
        "version": 3
      },
      "file_extension": ".py",
      "mimetype": "text/x-python",
      "name": "python",
      "nbconvert_exporter": "python",
      "pygments_lexer": "ipython3",
      "version": "3.6.8"
    },
    "kernelspec": {
      "name": "python3",
      "display_name": "Python 3"
    },
    "accelerator": "GPU"
  },
  "cells": [
    {
      "cell_type": "markdown",
      "metadata": {
        "id": "view-in-github",
        "colab_type": "text"
      },
      "source": [
        "<a href=\"https://colab.research.google.com/github/RodrigoAgronomia/workshop_esalq/blob/master/python/Copy_of_Draw_Mask_VIA_csv.ipynb\" target=\"_parent\"><img src=\"https://colab.research.google.com/assets/colab-badge.svg\" alt=\"Open In Colab\"/></a>"
      ]
    },
    {
      "cell_type": "markdown",
      "metadata": {
        "id": "dZ2oXcWwN233",
        "colab_type": "text"
      },
      "source": [
        "Draw mask from VIA - .csv file"
      ]
    },
    {
      "cell_type": "code",
      "metadata": {
        "id": "JDoMj5lmOPVi",
        "colab_type": "code",
        "outputId": "b520b5eb-b673-4d1a-fb5c-9b7378f22fdf",
        "colab": {
          "base_uri": "https://localhost:8080/",
          "height": 84
        }
      },
      "source": [
        "!git clone --depth 1 https://github.com/RodrigoAgronomia/workshop_esalq.git\n",
        "%cd /content/workshop_esalq\n",
        "!git pull\n",
        "%cd /content/workshop_esalq/python"
      ],
      "execution_count": 35,
      "outputs": [
        {
          "output_type": "stream",
          "text": [
            "fatal: destination path 'workshop_esalq' already exists and is not an empty directory.\n",
            "/content/workshop_esalq\n",
            "Already up to date.\n",
            "/content/workshop_esalq/python\n"
          ],
          "name": "stdout"
        }
      ]
    },
    {
      "cell_type": "code",
      "metadata": {
        "id": "wuq9h3msN237",
        "colab_type": "code",
        "colab": {}
      },
      "source": [
        "#Importação das bibliotecas necessárias para rodar o código\n",
        "%matplotlib inline\n",
        "\n",
        "import numpy as np\n",
        "import pandas as pd\n",
        "import cv2\n",
        "import os\n",
        "import matplotlib.pyplot as plt\n",
        "import re"
      ],
      "execution_count": 0,
      "outputs": []
    },
    {
      "cell_type": "code",
      "metadata": {
        "id": "zYhbPGttN24A",
        "colab_type": "code",
        "colab": {}
      },
      "source": [
        "#Define o mapa de cores para geração da máscara\n",
        "def colorir(cat):\n",
        "    h, w = cat.shape[:2]\n",
        "    msk = np.zeros((h,w,3), dtype = 'uint8')\n",
        "    msk[cat == 1] = [0,255,0]\n",
        "    msk[cat == 2] = [0,0,255]\n",
        "    return(msk)"
      ],
      "execution_count": 0,
      "outputs": []
    },
    {
      "cell_type": "code",
      "metadata": {
        "id": "JAGc2gGZN24E",
        "colab_type": "code",
        "colab": {}
      },
      "source": [
        "#Definição das pastas necessárias para rodar o script\n",
        "img_dir = '../data/orig/Soybean/'\n",
        "pts_dir = '../data/seg/pts/'\n",
        "pts_col_dir = '../data/seg/pts_col/'\n",
        "anotacao = '../data/via_region_data.csv'"
      ],
      "execution_count": 0,
      "outputs": []
    },
    {
      "cell_type": "code",
      "metadata": {
        "id": "0L4hsOqlhHfj",
        "colab_type": "code",
        "colab": {}
      },
      "source": [
        "# os.mkdir(pts_col_dir)"
      ],
      "execution_count": 0,
      "outputs": []
    },
    {
      "cell_type": "code",
      "metadata": {
        "id": "rMz3dQfsN24I",
        "colab_type": "code",
        "outputId": "3b57ca34-d2f6-4c2b-97b1-9b9ada6984e5",
        "colab": {
          "base_uri": "https://localhost:8080/",
          "height": 54
        }
      },
      "source": [
        "#Apresenta as imagens dentro do diretório com o respectivo formato da imagem\n",
        "img_list = os.listdir(img_dir)\n",
        "img_list = [v for v in img_list if v.endswith('.JPG')]\n",
        "print(img_list)"
      ],
      "execution_count": 31,
      "outputs": [
        {
          "output_type": "stream",
          "text": [
            "['DJI_0351.JPG', 'DJI_0345.JPG', 'DJI_0338.JPG', 'DJI_0352.JPG', 'DJI_0336.JPG', 'DJI_0354.JPG', 'DJI_0333.JPG', 'DJI_0358.JPG', 'DJI_0334.JPG', 'DJI_0350.JPG', 'DJI_0348.JPG', 'DJI_0361.JPG', 'DJI_0360.JPG', 'DJI_0332.JPG', 'DJI_0340.JPG', 'DJI_0355.JPG', 'DJI_0353.JPG', 'DJI_0341.JPG', 'DJI_0359.JPG', 'DJI_0346.JPG', 'DJI_0356.JPG', 'DJI_0342.JPG', 'DJI_0335.JPG', 'DJI_0357.JPG', 'DJI_0349.JPG', 'DJI_0343.JPG', 'DJI_0347.JPG', 'DJI_0337.JPG', 'DJI_0344.JPG', 'DJI_0339.JPG']\n"
          ],
          "name": "stdout"
        }
      ]
    },
    {
      "cell_type": "code",
      "metadata": {
        "id": "rkCeOJ8iN24W",
        "colab_type": "code",
        "outputId": "78dd950e-39bb-40d3-8d82-774596b94a35",
        "colab": {
          "base_uri": "https://localhost:8080/",
          "height": 521
        }
      },
      "source": [
        "csv_file = pd.read_csv(anotacao,index_col = False) #Faz a leitura do arquivo .csv\n",
        "\n",
        "for img in img_list:\n",
        "    lista = csv_file[csv_file.filename == img] #Recebe os dados encontrados dentro do csv para a imagem em questão\n",
        "    tamanho = lista.shape\n",
        "    imagem = cv2.imread(os.path.join(img_dir, img)) #Carrega a imagem em questão\n",
        "    msk = np.zeros(imagem.shape[:2], dtype = 'uint8') #Carrega as informações do tamanho da imagem\n",
        "    msk_name = os.path.join(pts_dir, img.replace('.JPG', '.png')) #Faz a junção do diretório com o nome da imagem, alterando seu formato\n",
        "    \n",
        "    if tamanho[0] != 0:\n",
        "        for i in range(tamanho[0]):\n",
        "            line = lista.iloc[i,:] #Recebe todas as marcações realizadas dentro daquela imagem\n",
        "            region_shape = line.region_shape_attributes #Informa a posição onde o ponto se encontra\n",
        "            region_attributes = (line.region_attributes) #Informa a classe do ponto\n",
        "            region_attributes = re.findall('\"([^\"]*)\"', region_attributes) #Faz a separação para encontrar a qual classe pertence o ponto marcado\n",
        "            coords = [float(s) for s in re.findall(r'-?\\d+\\.?\\d*', region_shape)] #Encontrando valores de x e y\n",
        "            cx = int(coords[0]) #Coordenadas no eixo X\n",
        "            cy = int(coords[1]) #Coordenadas no eixo y\n",
        "\n",
        "            #Define as classes aqui para realizar o desenho da máscara\n",
        "            if region_attributes[1] == 'Corn':\n",
        "                cv2.circle(msk, (cx,cy), 15, 2, -1)\n",
        "                \n",
        "            if region_attributes[1] == 'Soy':\n",
        "                cv2.circle(msk, (cx,cy), 15, 1, -1)\n",
        "        \n",
        "        print(msk_name) #Apresenta o nome da máscara com o diretório a ser salvo\n",
        "        cv2.imwrite(msk_name, msk) #Realiza o salvamento do background\n",
        "    \n",
        "        col_msk = colorir(msk) #Realiza a coloração da máscara\n",
        "        col_msk_name = os.path.join(pts_col_dir, img.replace('.JPG', '.png')) #Faz a junção do diretório com o nome da imagem, alterando seu formato\n",
        "        cv2.imwrite(col_msk_name, col_msk) #Realiza o salvamento da máscara já colorida\n",
        "        \n",
        "    else:\n",
        "        print('A imagem'+' '+img+' '+'não possui anotação no .csv apresentado') #Apresenta uma mensagem caso a imagem lida não apresente informações dentro do .csv"
      ],
      "execution_count": 32,
      "outputs": [
        {
          "output_type": "stream",
          "text": [
            "A imagem DJI_0351.JPG não possui anotação no .csv apresentado\n",
            "A imagem DJI_0345.JPG não possui anotação no .csv apresentado\n",
            "A imagem DJI_0338.JPG não possui anotação no .csv apresentado\n",
            "A imagem DJI_0352.JPG não possui anotação no .csv apresentado\n",
            "A imagem DJI_0336.JPG não possui anotação no .csv apresentado\n",
            "A imagem DJI_0354.JPG não possui anotação no .csv apresentado\n",
            "A imagem DJI_0333.JPG não possui anotação no .csv apresentado\n",
            "A imagem DJI_0358.JPG não possui anotação no .csv apresentado\n",
            "A imagem DJI_0334.JPG não possui anotação no .csv apresentado\n",
            "A imagem DJI_0350.JPG não possui anotação no .csv apresentado\n",
            "A imagem DJI_0348.JPG não possui anotação no .csv apresentado\n",
            "A imagem DJI_0361.JPG não possui anotação no .csv apresentado\n",
            "A imagem DJI_0360.JPG não possui anotação no .csv apresentado\n",
            "../data/seg/pts/DJI_0332.png\n",
            "A imagem DJI_0340.JPG não possui anotação no .csv apresentado\n",
            "A imagem DJI_0355.JPG não possui anotação no .csv apresentado\n",
            "A imagem DJI_0353.JPG não possui anotação no .csv apresentado\n",
            "A imagem DJI_0341.JPG não possui anotação no .csv apresentado\n",
            "A imagem DJI_0359.JPG não possui anotação no .csv apresentado\n",
            "A imagem DJI_0346.JPG não possui anotação no .csv apresentado\n",
            "A imagem DJI_0356.JPG não possui anotação no .csv apresentado\n",
            "A imagem DJI_0342.JPG não possui anotação no .csv apresentado\n",
            "A imagem DJI_0335.JPG não possui anotação no .csv apresentado\n",
            "A imagem DJI_0357.JPG não possui anotação no .csv apresentado\n",
            "A imagem DJI_0349.JPG não possui anotação no .csv apresentado\n",
            "A imagem DJI_0343.JPG não possui anotação no .csv apresentado\n",
            "A imagem DJI_0347.JPG não possui anotação no .csv apresentado\n",
            "A imagem DJI_0337.JPG não possui anotação no .csv apresentado\n",
            "A imagem DJI_0344.JPG não possui anotação no .csv apresentado\n",
            "A imagem DJI_0339.JPG não possui anotação no .csv apresentado\n"
          ],
          "name": "stdout"
        }
      ]
    },
    {
      "cell_type": "code",
      "metadata": {
        "id": "LNs8pJwwN24f",
        "colab_type": "code",
        "colab": {}
      },
      "source": [
        ""
      ],
      "execution_count": 0,
      "outputs": []
    },
    {
      "cell_type": "code",
      "metadata": {
        "id": "yaS7pqdMiD6m",
        "colab_type": "code",
        "colab": {}
      },
      "source": [
        ""
      ],
      "execution_count": 0,
      "outputs": []
    }
  ]
}