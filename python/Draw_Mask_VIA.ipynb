{
  "nbformat": 4,
  "nbformat_minor": 0,
  "metadata": {
    "colab": {
      "name": "Copy of Copy of Draw_Mask_VIA_csv.ipynb",
      "version": "0.3.2",
      "provenance": [],
      "collapsed_sections": [],
      "include_colab_link": true
    },
    "language_info": {
      "codemirror_mode": {
        "name": "ipython",
        "version": 3
      },
      "file_extension": ".py",
      "mimetype": "text/x-python",
      "name": "python",
      "nbconvert_exporter": "python",
      "pygments_lexer": "ipython3",
      "version": "3.6.8"
    },
    "kernelspec": {
      "display_name": "Python 3",
      "language": "python",
      "name": "python3"
    },
    "accelerator": "GPU"
  },
  "cells": [
    {
      "cell_type": "markdown",
      "metadata": {
        "id": "view-in-github",
        "colab_type": "text"
      },
      "source": [
        "<a href=\"https://colab.research.google.com/github/RodrigoAgronomia/workshop_esalq/blob/master/python/Draw_Mask_VIA.ipynb\" target=\"_parent\"><img src=\"https://colab.research.google.com/assets/colab-badge.svg\" alt=\"Open In Colab\"/></a>"
      ]
    },
    {
      "cell_type": "markdown",
      "metadata": {
        "colab_type": "text",
        "id": "dZ2oXcWwN233"
      },
      "source": [
        "Draw mask from VIA - .csv file"
      ]
    },
    {
      "cell_type": "code",
      "metadata": {
        "colab_type": "code",
        "id": "JDoMj5lmOPVi",
        "outputId": "cea68fb5-4858-49af-bbf5-0a3d36c297f5",
        "colab": {
          "base_uri": "https://localhost:8080/",
          "height": 101
        }
      },
      "source": [
        "%cd /content\n",
        "!git clone --depth 1 https://github.com/RodrigoAgronomia/workshop_esalq.git\n",
        "%cd /content/workshop_esalq\n",
        "!git pull\n",
        "%cd /content/workshop_esalq/python"
      ],
      "execution_count": 1,
      "outputs": [
        {
          "output_type": "stream",
          "text": [
            "/content\n",
            "fatal: destination path 'workshop_esalq' already exists and is not an empty directory.\n",
            "/content/workshop_esalq\n",
            "Already up to date.\n",
            "/content/workshop_esalq/python\n"
          ],
          "name": "stdout"
        }
      ]
    },
    {
      "cell_type": "code",
      "metadata": {
        "colab_type": "code",
        "id": "wuq9h3msN237",
        "colab": {}
      },
      "source": [
        "#Importação das bibliotecas necessárias para rodar o código\n",
        "%matplotlib inline\n",
        "\n",
        "import numpy as np\n",
        "import pandas as pd\n",
        "import cv2\n",
        "import os\n",
        "import matplotlib.pyplot as plt\n",
        "import re"
      ],
      "execution_count": 0,
      "outputs": []
    },
    {
      "cell_type": "code",
      "metadata": {
        "colab_type": "code",
        "id": "zYhbPGttN24A",
        "colab": {}
      },
      "source": [
        "\n",
        "#Define o mapa de cores para geração da máscara\n",
        "def colorir(cat):\n",
        "    h, w = cat.shape[:2]\n",
        "    msk = np.zeros((h,w,3), dtype = 'uint8')\n",
        "    msk[cat == 1] = [0,0,255]\n",
        "    msk[cat == 2] = [128,0,0]\n",
        "    msk[cat == 3] = [255,0,0]\n",
        "    msk[cat == 4] = [0,128,0]\n",
        "    msk[cat == 5] = [0,255,0]\n",
        "    return(msk)"
      ],
      "execution_count": 0,
      "outputs": []
    },
    {
      "cell_type": "code",
      "metadata": {
        "colab_type": "code",
        "id": "feypSa7BdvCI",
        "colab": {}
      },
      "source": [
        "def get_mask(imgt):\n",
        "    #Split Image in 3 channels\n",
        "    blue,green,red = cv2.split(imgt)\n",
        "    #Normalize values\n",
        "    green = np.divide(green,255)\n",
        "    red = np.divide(red,255)\n",
        "    blue = np.divide(blue,255)\n",
        "\n",
        "    #Sum of normalized values\n",
        "    norm = red+green+blue\n",
        "\n",
        "    r = np.divide(red, norm, out=np.zeros_like(red), where=norm!=0)\n",
        "    g = np.divide(green, norm, out=np.zeros_like(green), where=norm!=0)\n",
        "    b = np.divide(blue, norm, out=np.zeros_like(blue), where=norm!=0)\n",
        "    \n",
        "    #ExG - ExR\n",
        "    midx = ((2*g) - r - b) - ((1.4*r) - g)\n",
        "\n",
        "    #Binarize image\n",
        "    midx[midx<0] = 0\n",
        "    midx[midx>0] = 1\n",
        "    imager = (midx*255).astype('uint8')\n",
        "    return(imager)"
      ],
      "execution_count": 0,
      "outputs": []
    },
    {
      "cell_type": "code",
      "metadata": {
        "colab_type": "code",
        "id": "JAGc2gGZN24E",
        "colab": {}
      },
      "source": [
        "#Definição das pastas necessárias para rodar o script\n",
        "img_dir = '../data/orig/Corn/'\n",
        "pts_dir = '../data/seg/pts/'\n",
        "pts_col_dir = '../data/seg/pts_col/'\n",
        "anotacao = '../data/anotations.csv'"
      ],
      "execution_count": 0,
      "outputs": []
    },
    {
      "cell_type": "code",
      "metadata": {
        "colab_type": "code",
        "id": "0L4hsOqlhHfj",
        "colab": {}
      },
      "source": [
        "try:\n",
        "    os.mkdir('../data/seg/')\n",
        "    os.mkdir(pts_dir)\n",
        "    os.mkdir(pts_col_dir)\n",
        "except:\n",
        "    pass\n"
      ],
      "execution_count": 0,
      "outputs": []
    },
    {
      "cell_type": "code",
      "metadata": {
        "colab_type": "code",
        "id": "rMz3dQfsN24I",
        "outputId": "fef4faf2-5169-4b0a-adf4-8fffc95f572e",
        "colab": {
          "base_uri": "https://localhost:8080/",
          "height": 54
        }
      },
      "source": [
        "#Apresenta as imagens dentro do diretório com o respectivo formato da imagem\n",
        "img_list = os.listdir(img_dir)\n",
        "img_list = [v for v in img_list if v.endswith('.JPG')]\n",
        "print(img_list)"
      ],
      "execution_count": 0,
      "outputs": [
        {
          "output_type": "stream",
          "text": [
            "['DJI_0417.JPG', 'DJI_0415.JPG', 'DJI_0394.JPG', 'DJI_0409.JPG', 'DJI_0420.JPG', 'DJI_0416.JPG', 'DJI_0418.JPG', 'DJI_0408.JPG', 'DJI_0402.JPG', 'DJI_0419.JPG', 'DJI_0399.JPG', 'DJI_0405.JPG', 'DJI_0410.JPG', 'DJI_0414.JPG', 'DJI_0400.JPG', 'DJI_0403.JPG', 'DJI_0407.JPG', 'DJI_0412.JPG', 'DJI_0406.JPG', 'DJI_0411.JPG', 'DJI_0393.JPG', 'DJI_0397.JPG', 'DJI_0395.JPG', 'DJI_0421.JPG', 'DJI_0396.JPG', 'DJI_0398.JPG', 'DJI_0404.JPG', 'DJI_0401.JPG', 'DJI_0392.JPG', 'DJI_0413.JPG']\n"
          ],
          "name": "stdout"
        }
      ]
    },
    {
      "cell_type": "code",
      "metadata": {
        "colab_type": "code",
        "id": "rkCeOJ8iN24W",
        "outputId": "56ec1f3d-7067-4625-92ee-37ed77a96153",
        "colab": {
          "base_uri": "https://localhost:8080/",
          "height": 527
        }
      },
      "source": [
        "csv_file = pd.read_csv(anotacao,index_col = False) #Faz a leitura do arquivo .csv\n",
        "\n",
        "for img in img_list:\n",
        "    lista = csv_file[csv_file.filename == img] #Recebe os dados encontrados dentro do csv para a imagem em questão\n",
        "    tamanho = lista.shape\n",
        "    if tamanho[0] != 0:\n",
        "        imagem = cv2.imread(os.path.join(img_dir, img)) #Carrega a imagem em questão\n",
        "\n",
        "        msk = np.zeros(imagem.shape[:2], dtype = 'uint8') #Carrega as informações do tamanho da imagem\n",
        "        # Cria uma mascara auxiliar para o desenho dos circulos ao redor das plantas:\n",
        "        msk0 = msk.copy()\n",
        "        msk1 = msk.copy()\n",
        "        \n",
        "        # Importa a mascara do indice de vegetacao:\n",
        "        mskk = get_mask(imagem)\n",
        "        mskk = (mskk > 100).astype('uint8') \n",
        "        msk_name = os.path.join(pts_dir, img.replace('.JPG', '.png')) #Faz a junção do diretório com o nome da imagem, alterando seu formato\n",
        "\n",
        "    \n",
        "        for i in range(tamanho[0]):\n",
        "            line = lista.iloc[i,:] #Recebe todas as marcações realizadas dentro daquela imagem\n",
        "            region_shape = line.region_shape_attributes #Informa a posição onde o ponto se encontra\n",
        "            region_attributes = (line.region_attributes) #Informa a classe do ponto\n",
        "            region_attributes = re.findall('\"([^\"]*)\"', region_attributes) #Faz a separação para encontrar a qual classe pertence o ponto marcado\n",
        "            coords = [float(s) for s in re.findall(r'-?\\d+\\.?\\d*', region_shape)] #Encontrando valores de x e y\n",
        "            cx = int(coords[0]) #Coordenadas no eixo X\n",
        "            cy = int(coords[1]) #Coordenadas no eixo y\n",
        "\n",
        "            #Define as classes aqui para realizar o desenho da máscara      \n",
        "            if region_attributes[1] == 'Corn':\n",
        "                cv2.circle(msk0, (cx,cy), 80, 2, -1)\n",
        "                cv2.circle(msk1, (cx,cy), 8, 3, -1)\n",
        "                \n",
        "                \n",
        "            if region_attributes[1] == 'Soybean':\n",
        "                cv2.circle(msk0, (cx,cy), 40, 4, -1)\n",
        "                cv2.circle(msk1, (cx,cy), 8, 5, -1)\n",
        "        \n",
        "        #Faz a combinação das mascaras na máscara principal\n",
        "        msk[(msk0==2)&(mskk==1)] = 2\n",
        "        msk[(msk0==4)&(mskk==1)] = 4\n",
        "        msk[(msk1==3)] = 3\n",
        "        msk[(msk1==5)] = 5\n",
        "        msk[(msk==0)&(mskk==1)] = 1\n",
        "        \n",
        "                \n",
        "        print(msk_name) #Apresenta o nome da máscara com o diretório a ser salvo\n",
        "        cv2.imwrite(msk_name, msk) #Realiza o salvamento do background\n",
        "    \n",
        "        col_msk = colorir(msk) #Realiza a coloração da máscara\n",
        "        col_msk_name = os.path.join(pts_col_dir, img.replace('.JPG', '.png')) #Faz a junção do diretório com o nome da imagem, alterando seu formato\n",
        "        cv2.imwrite(col_msk_name, col_msk) #Realiza o salvamento da máscara já colorida\n",
        "        \n",
        "    else:\n",
        "        print('A imagem'+' '+img+' '+'não possui anotação no .csv apresentado') #Apresenta uma mensagem caso a imagem lida não apresente informações dentro do .csv"
      ],
      "execution_count": 0,
      "outputs": [
        {
          "output_type": "stream",
          "text": [
            "../data/seg/pts/DJI_0417.png\n",
            "../data/seg/pts/DJI_0415.png\n",
            "../data/seg/pts/DJI_0394.png\n",
            "../data/seg/pts/DJI_0409.png\n",
            "../data/seg/pts/DJI_0420.png\n",
            "../data/seg/pts/DJI_0416.png\n",
            "../data/seg/pts/DJI_0418.png\n",
            "../data/seg/pts/DJI_0408.png\n",
            "../data/seg/pts/DJI_0402.png\n",
            "../data/seg/pts/DJI_0419.png\n",
            "../data/seg/pts/DJI_0399.png\n",
            "../data/seg/pts/DJI_0405.png\n",
            "../data/seg/pts/DJI_0410.png\n",
            "../data/seg/pts/DJI_0414.png\n",
            "../data/seg/pts/DJI_0400.png\n",
            "../data/seg/pts/DJI_0403.png\n",
            "../data/seg/pts/DJI_0407.png\n",
            "../data/seg/pts/DJI_0412.png\n",
            "../data/seg/pts/DJI_0406.png\n",
            "../data/seg/pts/DJI_0411.png\n",
            "../data/seg/pts/DJI_0393.png\n",
            "../data/seg/pts/DJI_0397.png\n",
            "../data/seg/pts/DJI_0395.png\n",
            "../data/seg/pts/DJI_0421.png\n",
            "../data/seg/pts/DJI_0396.png\n",
            "../data/seg/pts/DJI_0398.png\n",
            "../data/seg/pts/DJI_0404.png\n",
            "../data/seg/pts/DJI_0401.png\n",
            "../data/seg/pts/DJI_0392.png\n",
            "../data/seg/pts/DJI_0413.png\n"
          ],
          "name": "stdout"
        }
      ]
    },
    {
      "cell_type": "code",
      "metadata": {
        "colab_type": "code",
        "id": "LNs8pJwwN24f",
        "colab": {}
      },
      "source": [
        ""
      ],
      "execution_count": 0,
      "outputs": []
    },
    {
      "cell_type": "code",
      "metadata": {
        "colab_type": "code",
        "id": "yaS7pqdMiD6m",
        "colab": {}
      },
      "source": [
        ""
      ],
      "execution_count": 0,
      "outputs": []
    }
  ]
}