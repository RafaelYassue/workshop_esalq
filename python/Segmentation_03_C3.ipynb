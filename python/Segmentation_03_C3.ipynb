{
 "cells": [
  {
   "cell_type": "markdown",
   "metadata": {
    "colab_type": "text",
    "id": "view-in-github"
   },
   "source": [
    "<a href=\"https://colab.research.google.com/github/RodrigoAgronomia/workshop_esalq/blob/master/python/Segmentation_03_C3.ipynb\" target=\"_parent\"><img src=\"https://colab.research.google.com/assets/colab-badge.svg\" alt=\"Open In Colab\"/></a>"
   ]
  },
  {
   "cell_type": "code",
   "execution_count": null,
   "metadata": {
    "colab": {},
    "colab_type": "code",
    "id": "3BuSGKHl3UOH"
   },
   "outputs": [],
   "source": [
    "%%capture\n",
    "!pip install livelossplot\n",
    "%cd /content\n",
    "!git clone --depth 1 https://github.com/RodrigoAgronomia/workshop_esalq.git\n",
    "%cd /content/workshop_esalq\n",
    "!git pull\n",
    "%cd /content/workshop_esalq/python"
   ]
  },
  {
   "cell_type": "code",
   "execution_count": null,
   "metadata": {
    "colab": {},
    "colab_type": "code",
    "id": "i9zFfLR2rM6Y"
   },
   "outputs": [],
   "source": [
    "# Importação das bibliotecas necessárias para fazer o código funcionar - Caso apresente algum erro instalar a respectiva biblioteca\n",
    "import os\n",
    "import cv2\n",
    "import time\n",
    "import json\n",
    "import numpy as np\n",
    "\n",
    "import torch\n",
    "import torch.nn.functional as F\n",
    "\n",
    "import matplotlib.pyplot as plt\n",
    "from torch.autograd import Variable\n",
    "from torch.utils.data import Dataset, DataLoader\n",
    "from torchsummary import summary\n",
    "from livelossplot import PlotLosses"
   ]
  },
  {
   "cell_type": "code",
   "execution_count": null,
   "metadata": {
    "colab": {
     "base_uri": "https://localhost:8080/",
     "height": 34
    },
    "colab_type": "code",
    "id": "GSa1p6TSrUUg",
    "outputId": "c6d595ab-3e4a-4ef1-87a9-ec55ed1123e7"
   },
   "outputs": [],
   "source": [
    "# Verifica se o CUDA está presente no respectivo computador. Caso sim atribui ao devide. Caso não atribui o cpu, apresentando uma mensagem ao usuário\n",
    "device = 'cuda' if torch.cuda.is_available() else 'cpu'\n",
    "print(device)"
   ]
  },
  {
   "cell_type": "code",
   "execution_count": null,
   "metadata": {
    "colab": {},
    "colab_type": "code",
    "id": "pKCOApcW0NOW"
   },
   "outputs": [],
   "source": [
    "#Criando a arquitetura do modelo em questão - Parâmetros definidos nesta classe:\n",
    "#  im_channels - Número de canais da imagem de entrada\n",
    "#  out_channels - Número de canais produzidos pela camada de convolução - Repare que o valor de out_channels da camada anterior deve ser o mesmo do parâmetro in_channels da convolução que se segue\n",
    "#  kernel_size - Tamanho do kernel (filtro) da convolução em questão\n",
    "#  stride - número de unidades que o filtro muda a cada vez.\n",
    "#  padding - Preenchimento adicionado a ambos os lados da entrada\n",
    "#  BatchNorm2d - Parâmetro para ajuste e dimensionamento das ativações. Melhora a estabilidade e desempenho de uma RNA\n",
    "#  MaxPool2d - Reduz o tamanho espacial da saída, substituindo valores no kernel por uma função desses valores\n",
    "#  ReLU - Função de ativação da RNA\n",
    "# OBS. Link interessante - https://www.jessicayung.com/explaining-tensorflow-code-for-a-convolutional-neural-network/\n",
    "\n",
    "class CNNModel(torch.nn.Module):\n",
    "    def __init__(self, n_classes):\n",
    "        super(CNNModel, self).__init__()\n",
    "        \n",
    "        # Convolution 0\n",
    "        self.cnn0 = torch.nn.Conv2d(in_channels=3, out_channels=32, kernel_size=3, stride=1, padding=1)\n",
    "        self.bn0 = torch.nn.BatchNorm2d(32)\n",
    "        self.relu0 = torch.nn.ReLU()\n",
    "        \n",
    "        # Convolution 1\n",
    "        self.cnn1 = torch.nn.Conv2d(in_channels=32, out_channels=20, kernel_size=5, stride=1, padding=2)\n",
    "        self.bn1 = torch.nn.BatchNorm2d(20)\n",
    "        self.relu1 = torch.nn.ReLU()\n",
    "        \n",
    "        # Convolution 2\n",
    "        self.cnn2 = torch.nn.Conv2d(in_channels=20, out_channels=12, kernel_size=7, stride=1, padding=3)\n",
    "        self.bn2 = torch.nn.BatchNorm2d(12)\n",
    "        self.relu2 = torch.nn.ReLU()\n",
    "        \n",
    "        # Convolution 3\n",
    "        self.cnn3 = torch.nn.Conv2d(in_channels=12, out_channels=8, kernel_size=9, stride=1, padding=4)\n",
    "        self.bn3 = torch.nn.BatchNorm2d(8)\n",
    "        self.relu3 = torch.nn.ReLU()\n",
    "        \n",
    "        self.pred = torch.nn.Conv2d(in_channels=8, out_channels=n_classes, kernel_size=1, stride=1, padding=0)\n",
    "\n",
    "        \n",
    "    def forward(self, x):\n",
    "        # Convolution 1\n",
    "        out = self.relu0(self.bn0(self.cnn0(x)))\n",
    "        out = self.relu1(self.bn1(self.cnn1(out)))\n",
    "        out = self.relu2(self.bn2(self.cnn2(out)))\n",
    "        out = self.relu3(self.bn3(self.cnn3(out)))\n",
    "        out = self.pred(out) \n",
    "        return (out)"
   ]
  },
  {
   "cell_type": "code",
   "execution_count": null,
   "metadata": {
    "colab": {},
    "colab_type": "code",
    "id": "cml5bJhdsUaz"
   },
   "outputs": [],
   "source": [
    "def prep_image(image):\n",
    "    image = np.moveaxis(image, 2, 0)\n",
    "    image = image.astype('float')\n",
    "    image -= 128\n",
    "    image /= 35\n",
    "    return(image)\n",
    "    \n",
    "    \n",
    "# Classe para preparo do dataset de treinamento e validação\n",
    "class MyDataset(torch.utils.data.Dataset):\n",
    "    def __init__(self, im_dir, imList):\n",
    "        data = []\n",
    "        #Prepara as imagens no formato numpy para poder ser lida pelo modelo\n",
    "        for idx in range(len(imList)):\n",
    "            image_name = imList[idx]\n",
    "            image = cv2.imread(os.path.join(im_dir, image_name))\n",
    "            image = prep_image(image)\n",
    "\n",
    "            label = cv2.imread(os.path.join(im_dir, image_name.replace('.png', '_msk.png')))\n",
    "            label = np.digitize(label[:,:,0], [250, 255]).astype('uint8')\n",
    "\n",
    "            image = torch.from_numpy(image)\n",
    "            label = torch.from_numpy(label)\n",
    "            data.append([image, label])\n",
    "        self.data = data\n",
    "\n",
    "    def __len__(self):\n",
    "        return len(self.data)\n",
    "\n",
    "    def __getitem__(self, idx):\n",
    "        '''\n",
    "\n",
    "        :param idx: Index of the image file\n",
    "        :return: returns the image and corresponding label file.\n",
    "        '''\n",
    "        image, label = self.data[idx]\n",
    "        images = Variable(image).to(device, dtype=torch.float)\n",
    "        label = Variable(label).to(device, dtype=torch.long)\n",
    "        \n",
    "        return (images, label) #Retorna a imagem com sua respectiva máscara"
   ]
  },
  {
   "cell_type": "code",
   "execution_count": null,
   "metadata": {
    "colab": {},
    "colab_type": "code",
    "id": "hvdu3i2WrNcZ"
   },
   "outputs": [],
   "source": [
    "# Diretório das imagens\n",
    "im_dir = '../data/class'\n",
    "\n",
    "imgs = sorted(os.listdir(im_dir))\n",
    "imgs = [i for i in imgs if not i.endswith('msk.png')]\n",
    "imgs = np.array(imgs)\n",
    "# Seleciona aleatoriamente as imagens de treinamento e validação\n",
    "im_train = np.arange(len(imgs))\n",
    "im_val = np.random.choice(im_train, 30, replace=False)\n",
    "im_train = np.setdiff1d(im_train,im_val)\n"
   ]
  },
  {
   "cell_type": "code",
   "execution_count": null,
   "metadata": {
    "colab": {
     "base_uri": "https://localhost:8080/",
     "height": 298
    },
    "colab_type": "code",
    "id": "jxUmIo3zKkZQ",
    "outputId": "364450bf-dd09-432c-ea58-4e23d11d023e"
   },
   "outputs": [],
   "source": [
    "# Plota algumas das imagens dentro da pasta utilizada pelo modelo\n",
    "plt.figure(figsize = (15,9))\n",
    "\n",
    "im0 = cv2.imread(os.path.join(im_dir, imgs[50]))\n",
    "im1 = cv2.imread(os.path.join(im_dir, imgs[150]))\n",
    "im2 = cv2.imread(os.path.join(im_dir, imgs[250]))\n",
    "\n",
    "ims = [im0, im1, im2]\n",
    "for i in range(len(ims)):\n",
    "        plt.figure(1)\n",
    "        plt.subplot(1, 3, i+1)\n",
    "        plt.imshow(ims[i][:,:,[2,1,0]])\n"
   ]
  },
  {
   "cell_type": "code",
   "execution_count": null,
   "metadata": {
    "colab": {},
    "colab_type": "code",
    "id": "yujzWgF9rtUg"
   },
   "outputs": [],
   "source": [
    "train_dataset =  MyDataset(im_dir, imgs[im_train]) #Seleciona as respectivas imagens de treinamento\n",
    "val_dataset =  MyDataset(im_dir, imgs[im_val]) #Seleciona as respectivas imagens de validação"
   ]
  },
  {
   "cell_type": "code",
   "execution_count": null,
   "metadata": {
    "colab": {},
    "colab_type": "code",
    "id": "4sALwqfoxZhU"
   },
   "outputs": [],
   "source": [
    "# Batch_size (tamanho de lote) - número de exemplos de treinamento usados em uma iteração\n",
    "# Carrega o dataset de treinamento\n",
    "train_loader = torch.utils.data.DataLoader(train_dataset,\n",
    "                          batch_size=100,\n",
    "                          shuffle=True,\n",
    "                          num_workers=0\n",
    "                         )\n",
    "\n",
    "# Carrega o dataset de validação\n",
    "val_loader = torch.utils.data.DataLoader(val_dataset,\n",
    "                          batch_size=10,\n",
    "                          shuffle=False,\n",
    "                          num_workers=0\n",
    "                         )"
   ]
  },
  {
   "cell_type": "code",
   "execution_count": null,
   "metadata": {
    "colab": {},
    "colab_type": "code",
    "id": "j5WGQKUT0nS_"
   },
   "outputs": [],
   "source": [
    "n_classes = 3 # Número de classes utilizada no treinamento \n",
    "model = CNNModel(n_classes)\n",
    "model = model.to(device)\n",
    "liveloss = PlotLosses()"
   ]
  },
  {
   "cell_type": "code",
   "execution_count": null,
   "metadata": {
    "colab": {
     "base_uri": "https://localhost:8080/",
     "height": 459
    },
    "colab_type": "code",
    "id": "7lzke-t5-HjR",
    "outputId": "6e5bb21c-62c4-45cb-bfd2-f655f47ce624"
   },
   "outputs": [],
   "source": [
    "# Apresenta um resumo das informações carregadas até o momento\n",
    "# Input_size(numero de classes, tamanho da imagem - Resolução)\n",
    "summary(model, input_size=(3, 128, 128))"
   ]
  },
  {
   "cell_type": "code",
   "execution_count": null,
   "metadata": {
    "colab": {},
    "colab_type": "code",
    "id": "au3bqdoiz33E"
   },
   "outputs": [],
   "source": [
    "criterion = torch.nn.CrossEntropyLoss()\n",
    "learning_rate = 5e-3 #Taxa de aprendizado\n",
    "# torch.optim é um pacote que contém vários algoritmos de otimização dentro das RNAs\n",
    "# OBS. Para mais detalhes - https://pytorch.org/docs/stable/optim.html\n",
    "optimizer = torch.optim.Adam(model.parameters(), learning_rate, (0.9, 0.999), eps=1e-08, weight_decay=5e-4)"
   ]
  },
  {
   "cell_type": "code",
   "execution_count": null,
   "metadata": {
    "colab": {
     "base_uri": "https://localhost:8080/",
     "height": 391
    },
    "colab_type": "code",
    "id": "pwyvPGRs0l5t",
    "outputId": "5f2b5a15-ddd0-489a-f4cc-441475526cdb"
   },
   "outputs": [],
   "source": [
    "min_loss = 1\n",
    "num_epochs = 120 # Define o número de épocas para realizar o treinamento \n",
    "for epoch in range(num_epochs):\n",
    "    start_time = time.time()\n",
    "    epoch_loss = []\n",
    "    val_loss = []\n",
    "    \n",
    "    model.train()\n",
    "    for i, (images, labels) in enumerate(train_loader):\n",
    "        \n",
    "        # Limpa os gradientes\n",
    "        optimizer.zero_grad()\n",
    "    \n",
    "        # Obtem o output\n",
    "        outputs = model(images)\n",
    "\n",
    "        # Caulcula a perda pela loss function\n",
    "        loss = criterion(outputs, labels)\n",
    "\n",
    "        # Obtem os gradientes\n",
    "        loss.backward()\n",
    "\n",
    "        # Atualiza os parâmetros\n",
    "        optimizer.step()\n",
    "        epoch_loss.append(loss.data.item())\n",
    "        \n",
    "    model.eval()\n",
    "    for i, (images, labels) in enumerate(val_loader):\n",
    "        with torch.no_grad():\n",
    "          # Obtem o output\n",
    "          outputs = model(images)\n",
    "\n",
    "        # Caulcula a perda pela loss function (MSE)\n",
    "        loss = criterion(outputs, labels)\n",
    "\n",
    "        val_loss.append(loss.data.item())\n",
    "        \n",
    "    epoch_loss = np.array(epoch_loss).mean()\n",
    "    val_loss = np.array(val_loss).mean()\n",
    "    time_taken = time.time() - start_time\n",
    "    \n",
    "    if val_loss < min_loss:\n",
    "        # Nome da pasta com o arquivo .pth salvando os pesos do modelo treinado\n",
    "        model_file_name = '../data/models/model_seg.pth'\n",
    "        torch.save(model.state_dict(), model_file_name)\n",
    "\n",
    "    liveloss.update({\n",
    "        'log loss': epoch_loss,\n",
    "        'val_log loss': val_loss\n",
    "    })\n",
    "    liveloss.draw() #Apresenta o gráfico log loss\n",
    "    print('[%d] loss: %.3f time:%.2f' % (epoch, epoch_loss, time_taken))"
   ]
  },
  {
   "cell_type": "code",
   "execution_count": null,
   "metadata": {
    "colab": {
     "base_uri": "https://localhost:8080/",
     "height": 34
    },
    "colab_type": "code",
    "id": "1a3B1OfZ2EwM",
    "outputId": "1784ca98-8758-43d1-bcb0-603c12365b4e"
   },
   "outputs": [],
   "source": [
    "# Cria um novo modelo\n",
    "n_classes = 3\n",
    "model = CNNModel(n_classes)\n",
    "model = model.to(device)\n",
    "\n",
    "# Carrega os pesos de um modelo salvo\n",
    "model.load_state_dict(torch.load('../data/models/model_seg.pth', map_location=device))\n",
    "\n",
    "#Apresenta uma mensagem caso esteja tudo certo com o modelo\n",
    "print('Modelo OK')"
   ]
  },
  {
   "cell_type": "code",
   "execution_count": null,
   "metadata": {
    "colab": {
     "base_uri": "https://localhost:8080/",
     "height": 34
    },
    "colab_type": "code",
    "id": "e5tHUWze558V",
    "outputId": "6bdc3c38-0e91-4f22-af79-d540a4444998"
   },
   "outputs": [],
   "source": [
    "# Inicia o tempo para contagem\n",
    "start_time = time.time()\n",
    "\n",
    "# Realiza a predição dos dados a partir do modelo treinado - Dados de validação\n",
    "model.eval()\n",
    "obs = []\n",
    "preds = []\n",
    "for i, (images, labels) in enumerate(val_loader):\n",
    "    obs.append(labels.cpu().data.numpy())\n",
    "    with torch.no_grad():\n",
    "        pred = F.softmax(model(images), 1)\n",
    "    preds.append(pred.cpu().data.numpy())\n",
    "obs = np.concatenate(obs)\n",
    "preds = np.concatenate(preds)\n",
    "\n",
    "# Faz a diferença para calcular o tempo           \n",
    "time_taken = time.time() - start_time\n",
    "# Apresenta o valor do tempo\n",
    "print('time:%.2f' % (time_taken))\n"
   ]
  },
  {
   "cell_type": "code",
   "execution_count": null,
   "metadata": {
    "colab": {},
    "colab_type": "code",
    "id": "Pj-ZjSBQ3UOx"
   },
   "outputs": [],
   "source": [
    "image_name = '../data/class/IMG_2029.png'\n",
    "image_orig = cv2.imread(image_name)\n",
    "image = prep_image(image_orig)\n",
    "\n",
    "image = torch.from_numpy(image[np.newaxis,:])\n",
    "image = Variable(image).to(device, dtype=torch.float)\n",
    "        \n",
    "pred =  F.softmax(model(image), 1).cpu().data.numpy()[0]\n"
   ]
  },
  {
   "cell_type": "code",
   "execution_count": null,
   "metadata": {
    "colab": {
     "base_uri": "https://localhost:8080/",
     "height": 286
    },
    "colab_type": "code",
    "id": "uxqri8y08kZa",
    "outputId": "720856cb-8505-4116-97d5-c81a731c0330"
   },
   "outputs": [],
   "source": [
    "plt.imshow(image_orig)"
   ]
  },
  {
   "cell_type": "code",
   "execution_count": null,
   "metadata": {},
   "outputs": [],
   "source": [
    "plt.imshow(np.moveaxis(pred, 0, 2))"
   ]
  },
  {
   "cell_type": "code",
   "execution_count": null,
   "metadata": {
    "colab": {
     "base_uri": "https://localhost:8080/",
     "height": 286
    },
    "colab_type": "code",
    "id": "AvFg1-ZK3UO1",
    "outputId": "a01bd1af-7edf-432c-ddc2-e016b5d22cd4"
   },
   "outputs": [],
   "source": [
    "plt.imshow(pred.argmax(0))"
   ]
  },
  {
   "cell_type": "code",
   "execution_count": null,
   "metadata": {
    "colab": {
     "base_uri": "https://localhost:8080/",
     "height": 286
    },
    "colab_type": "code",
    "id": "Nw_5qpFd3UO5",
    "outputId": "851944b2-858e-4c7a-d04d-97f8a901bc23"
   },
   "outputs": [],
   "source": [
    "label = cv2.imread(image_name.replace('.png', '_msk.png'))\n",
    "plt.imshow(label)"
   ]
  },
  {
   "cell_type": "code",
   "execution_count": null,
   "metadata": {
    "colab": {},
    "colab_type": "code",
    "id": "IZKpWE764Qhm"
   },
   "outputs": [],
   "source": [
    "image_name = '../data/class/IMG_3051.png'\n",
    "image_orig = cv2.imread(image_name)\n",
    "image = prep_image(image_orig)\n",
    "\n",
    "image = torch.from_numpy(image[np.newaxis,:])\n",
    "image = Variable(image).to(device, dtype=torch.float)\n",
    "        \n",
    "pred =  F.softmax(model(image), 1).cpu().data.numpy()[0]\n"
   ]
  },
  {
   "cell_type": "code",
   "execution_count": null,
   "metadata": {},
   "outputs": [],
   "source": [
    "plt.imshow(image_orig)"
   ]
  },
  {
   "cell_type": "code",
   "execution_count": null,
   "metadata": {},
   "outputs": [],
   "source": [
    "plt.imshow(np.moveaxis(pred, 0, 2))"
   ]
  },
  {
   "cell_type": "code",
   "execution_count": null,
   "metadata": {},
   "outputs": [],
   "source": [
    "plt.imshow(pred.argmax(0))"
   ]
  },
  {
   "cell_type": "code",
   "execution_count": null,
   "metadata": {},
   "outputs": [],
   "source": [
    "label = cv2.imread(image_name.replace('.png', '_msk.png'))\n",
    "plt.imshow(label)"
   ]
  },
  {
   "cell_type": "code",
   "execution_count": null,
   "metadata": {},
   "outputs": [],
   "source": []
  }
 ],
 "metadata": {
  "accelerator": "GPU",
  "colab": {
   "collapsed_sections": [],
   "include_colab_link": true,
   "name": "Module_01.ipynb",
   "provenance": [],
   "version": "0.3.2"
  },
  "kernelspec": {
   "display_name": "Python 3",
   "language": "python",
   "name": "python3"
  },
  "language_info": {
   "codemirror_mode": {
    "name": "ipython",
    "version": 3
   },
   "file_extension": ".py",
   "mimetype": "text/x-python",
   "name": "python",
   "nbconvert_exporter": "python",
   "pygments_lexer": "ipython3",
   "version": "3.6.8"
  }
 },
 "nbformat": 4,
 "nbformat_minor": 1
}
