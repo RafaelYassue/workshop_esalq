{
  "nbformat": 4,
  "nbformat_minor": 0,
  "metadata": {
    "colab": {
      "name": "Module_01.ipynb",
      "version": "0.3.2",
      "provenance": [],
      "collapsed_sections": []
    },
    "kernelspec": {
      "name": "python3",
      "display_name": "Python 3"
    },
    "accelerator": "GPU"
  },
  "cells": [
    {
      "cell_type": "code",
      "metadata": {
        "id": "gnj6C9KNqTcC",
        "colab_type": "code",
        "outputId": "8542178e-1c04-444b-ec4c-d3799987266e",
        "colab": {
          "base_uri": "https://localhost:8080/",
          "height": 34
        }
      },
      "source": [
        "!git clone https://github.com/RodrigoAgronomia/workshop_esalq.git"
      ],
      "execution_count": 0,
      "outputs": [
        {
          "output_type": "stream",
          "text": [
            "fatal: destination path 'workshop_esalq' already exists and is not an empty directory.\n"
          ],
          "name": "stdout"
        }
      ]
    },
    {
      "cell_type": "code",
      "metadata": {
        "id": "4CUcBO5M1IGP",
        "colab_type": "code",
        "outputId": "0d6e0dbb-beee-4e1a-dd86-8ae44900749f",
        "colab": {
          "base_uri": "https://localhost:8080/",
          "height": 692
        }
      },
      "source": [
        "!pip install livelossplot\n",
        "from livelossplot import PlotLosses"
      ],
      "execution_count": 0,
      "outputs": [
        {
          "output_type": "stream",
          "text": [
            "Requirement already satisfied: livelossplot in /usr/local/lib/python3.6/dist-packages (0.4.0)\n",
            "Requirement already satisfied: matplotlib in /usr/local/lib/python3.6/dist-packages (from livelossplot) (3.0.3)\n",
            "Requirement already satisfied: notebook in /usr/local/lib/python3.6/dist-packages (from livelossplot) (5.2.2)\n",
            "Requirement already satisfied: pyparsing!=2.0.4,!=2.1.2,!=2.1.6,>=2.0.1 in /usr/local/lib/python3.6/dist-packages (from matplotlib->livelossplot) (2.4.0)\n",
            "Requirement already satisfied: kiwisolver>=1.0.1 in /usr/local/lib/python3.6/dist-packages (from matplotlib->livelossplot) (1.1.0)\n",
            "Requirement already satisfied: python-dateutil>=2.1 in /usr/local/lib/python3.6/dist-packages (from matplotlib->livelossplot) (2.5.3)\n",
            "Requirement already satisfied: numpy>=1.10.0 in /usr/local/lib/python3.6/dist-packages (from matplotlib->livelossplot) (1.16.3)\n",
            "Requirement already satisfied: cycler>=0.10 in /usr/local/lib/python3.6/dist-packages (from matplotlib->livelossplot) (0.10.0)\n",
            "Requirement already satisfied: tornado>=4 in /usr/local/lib/python3.6/dist-packages (from notebook->livelossplot) (4.5.3)\n",
            "Requirement already satisfied: nbformat in /usr/local/lib/python3.6/dist-packages (from notebook->livelossplot) (4.4.0)\n",
            "Requirement already satisfied: ipykernel in /usr/local/lib/python3.6/dist-packages (from notebook->livelossplot) (4.6.1)\n",
            "Requirement already satisfied: jupyter-core in /usr/local/lib/python3.6/dist-packages (from notebook->livelossplot) (4.4.0)\n",
            "Requirement already satisfied: terminado>=0.3.3; sys_platform != \"win32\" in /usr/local/lib/python3.6/dist-packages (from notebook->livelossplot) (0.8.2)\n",
            "Requirement already satisfied: jupyter-client in /usr/local/lib/python3.6/dist-packages (from notebook->livelossplot) (5.2.4)\n",
            "Requirement already satisfied: traitlets>=4.2.1 in /usr/local/lib/python3.6/dist-packages (from notebook->livelossplot) (4.3.2)\n",
            "Requirement already satisfied: ipython-genutils in /usr/local/lib/python3.6/dist-packages (from notebook->livelossplot) (0.2.0)\n",
            "Requirement already satisfied: nbconvert in /usr/local/lib/python3.6/dist-packages (from notebook->livelossplot) (5.5.0)\n",
            "Requirement already satisfied: jinja2 in /usr/local/lib/python3.6/dist-packages (from notebook->livelossplot) (2.10.1)\n",
            "Requirement already satisfied: setuptools in /usr/local/lib/python3.6/dist-packages (from kiwisolver>=1.0.1->matplotlib->livelossplot) (41.0.1)\n",
            "Requirement already satisfied: six>=1.5 in /usr/local/lib/python3.6/dist-packages (from python-dateutil>=2.1->matplotlib->livelossplot) (1.12.0)\n",
            "Requirement already satisfied: jsonschema!=2.5.0,>=2.4 in /usr/local/lib/python3.6/dist-packages (from nbformat->notebook->livelossplot) (2.6.0)\n",
            "Requirement already satisfied: ipython>=4.0.0 in /usr/local/lib/python3.6/dist-packages (from ipykernel->notebook->livelossplot) (5.5.0)\n",
            "Requirement already satisfied: ptyprocess; os_name != \"nt\" in /usr/local/lib/python3.6/dist-packages (from terminado>=0.3.3; sys_platform != \"win32\"->notebook->livelossplot) (0.6.0)\n",
            "Requirement already satisfied: pyzmq>=13 in /usr/local/lib/python3.6/dist-packages (from jupyter-client->notebook->livelossplot) (17.0.0)\n",
            "Requirement already satisfied: decorator in /usr/local/lib/python3.6/dist-packages (from traitlets>=4.2.1->notebook->livelossplot) (4.4.0)\n",
            "Requirement already satisfied: pandocfilters>=1.4.1 in /usr/local/lib/python3.6/dist-packages (from nbconvert->notebook->livelossplot) (1.4.2)\n",
            "Requirement already satisfied: bleach in /usr/local/lib/python3.6/dist-packages (from nbconvert->notebook->livelossplot) (3.1.0)\n",
            "Requirement already satisfied: entrypoints>=0.2.2 in /usr/local/lib/python3.6/dist-packages (from nbconvert->notebook->livelossplot) (0.3)\n",
            "Requirement already satisfied: testpath in /usr/local/lib/python3.6/dist-packages (from nbconvert->notebook->livelossplot) (0.4.2)\n",
            "Requirement already satisfied: defusedxml in /usr/local/lib/python3.6/dist-packages (from nbconvert->notebook->livelossplot) (0.6.0)\n",
            "Requirement already satisfied: mistune>=0.8.1 in /usr/local/lib/python3.6/dist-packages (from nbconvert->notebook->livelossplot) (0.8.4)\n",
            "Requirement already satisfied: pygments in /usr/local/lib/python3.6/dist-packages (from nbconvert->notebook->livelossplot) (2.1.3)\n",
            "Requirement already satisfied: MarkupSafe>=0.23 in /usr/local/lib/python3.6/dist-packages (from jinja2->notebook->livelossplot) (1.1.1)\n",
            "Requirement already satisfied: pickleshare in /usr/local/lib/python3.6/dist-packages (from ipython>=4.0.0->ipykernel->notebook->livelossplot) (0.7.5)\n",
            "Requirement already satisfied: simplegeneric>0.8 in /usr/local/lib/python3.6/dist-packages (from ipython>=4.0.0->ipykernel->notebook->livelossplot) (0.8.1)\n",
            "Requirement already satisfied: prompt-toolkit<2.0.0,>=1.0.4 in /usr/local/lib/python3.6/dist-packages (from ipython>=4.0.0->ipykernel->notebook->livelossplot) (1.0.16)\n",
            "Requirement already satisfied: pexpect; sys_platform != \"win32\" in /usr/local/lib/python3.6/dist-packages (from ipython>=4.0.0->ipykernel->notebook->livelossplot) (4.7.0)\n",
            "Requirement already satisfied: webencodings in /usr/local/lib/python3.6/dist-packages (from bleach->nbconvert->notebook->livelossplot) (0.5.1)\n",
            "Requirement already satisfied: wcwidth in /usr/local/lib/python3.6/dist-packages (from prompt-toolkit<2.0.0,>=1.0.4->ipython>=4.0.0->ipykernel->notebook->livelossplot) (0.1.7)\n"
          ],
          "name": "stdout"
        }
      ]
    },
    {
      "cell_type": "code",
      "metadata": {
        "id": "i9zFfLR2rM6Y",
        "colab_type": "code",
        "colab": {}
      },
      "source": [
        "import os\n",
        "import cv2\n",
        "import time\n",
        "import json\n",
        "import numpy as np\n",
        "\n",
        "import torch\n",
        "import torch.nn.functional as F\n",
        "\n",
        "import matplotlib.pyplot as plt\n",
        "from torch.autograd import Variable\n",
        "from torch.utils.data import Dataset, DataLoader\n",
        "from torchsummary import summary\n"
      ],
      "execution_count": 0,
      "outputs": []
    },
    {
      "cell_type": "code",
      "metadata": {
        "id": "GSa1p6TSrUUg",
        "colab_type": "code",
        "outputId": "cb5da340-5af2-4ff6-d5ed-fc6433ffd03c",
        "colab": {
          "base_uri": "https://localhost:8080/",
          "height": 34
        }
      },
      "source": [
        "device = 'cuda' if torch.cuda.is_available() else 'cpu'\n",
        "print(device)"
      ],
      "execution_count": 0,
      "outputs": [
        {
          "output_type": "stream",
          "text": [
            "cuda\n"
          ],
          "name": "stdout"
        }
      ]
    },
    {
      "cell_type": "code",
      "metadata": {
        "id": "pKCOApcW0NOW",
        "colab_type": "code",
        "colab": {}
      },
      "source": [
        "class CNNModel(torch.nn.Module):\n",
        "    def __init__(self, n_classes):\n",
        "        super(CNNModel, self).__init__()\n",
        "        \n",
        "        # Convolution 0\n",
        "        self.cnn0 = torch.nn.Conv2d(in_channels=3, out_channels=32, kernel_size=3, stride=1, padding=1)\n",
        "        self.bn0 = torch.nn.BatchNorm2d(32)\n",
        "        self.mxp0 = torch.nn.MaxPool2d(2)\n",
        "        self.relu0 = torch.nn.ReLU()\n",
        "        \n",
        "        # Convolution 1\n",
        "        self.cnn1 = torch.nn.Conv2d(in_channels=32, out_channels=20, kernel_size=5, stride=1, padding=2)\n",
        "        self.bn1 = torch.nn.BatchNorm2d(20)\n",
        "        self.mxp1 = torch.nn.MaxPool2d(2)\n",
        "        self.relu1 = torch.nn.ReLU()\n",
        "        \n",
        "        # Convolution 2\n",
        "        self.cnn2 = torch.nn.Conv2d(in_channels=20, out_channels=12, kernel_size=7, stride=1, padding=3)\n",
        "        self.bn2 = torch.nn.BatchNorm2d(12)\n",
        "        self.mxp2 = torch.nn.MaxPool2d(2)\n",
        "        self.relu2 = torch.nn.ReLU()\n",
        "        \n",
        "        # Convolution 3\n",
        "        self.cnn3 = torch.nn.Conv2d(in_channels=12, out_channels=8, kernel_size=9, stride=1, padding=4)\n",
        "        self.bn3 = torch.nn.BatchNorm2d(8)\n",
        "        self.mxp3 = torch.nn.MaxPool2d(2)\n",
        "        self.relu3 = torch.nn.ReLU()\n",
        "        \n",
        "        \n",
        "        self.prep = torch.nn.AdaptiveMaxPool2d(2)\n",
        "        self.pred = torch.nn.Linear(32, n_classes)\n",
        "        torch.nn.Softmax\n",
        "\n",
        "        \n",
        "    def forward(self, x):\n",
        "        # Convolution 1\n",
        "        out = self.relu0(self.mxp0(self.bn0(self.cnn0(x))))\n",
        "        out = self.relu1(self.mxp1(self.bn1(self.cnn1(out))))\n",
        "        out = self.relu2(self.mxp2(self.bn2(self.cnn2(out))))\n",
        "        out = self.relu3(self.mxp3(self.bn3(self.cnn3(out))))\n",
        "        out = self.prep(out).view(-1, 32)\n",
        "        out = self.pred(out) \n",
        "        return F.log_softmax(out, dim=1)"
      ],
      "execution_count": 0,
      "outputs": []
    },
    {
      "cell_type": "code",
      "metadata": {
        "id": "cml5bJhdsUaz",
        "colab_type": "code",
        "colab": {}
      },
      "source": [
        "class MyDataset(torch.utils.data.Dataset):\n",
        "    def __init__(self, im_dir, imList):\n",
        "        data = []\n",
        "        for idx in range(len(imList)):\n",
        "            image_name = imList[idx]\n",
        "            image = cv2.imread(os.path.join(im_dir, image_name))\n",
        "            image = np.moveaxis(image, 2, 0)\n",
        "            image = image.astype('float')\n",
        "            image -= 128\n",
        "            image /= 35\n",
        "\n",
        "            label = int(image_name[4]) - 1\n",
        "\n",
        "            image = torch.from_numpy(image)\n",
        "            label = torch.from_numpy(np.array([label]))\n",
        "            data.append([image, label])\n",
        "        self.data = data\n",
        "\n",
        "    def __len__(self):\n",
        "        return len(self.data)\n",
        "\n",
        "    def __getitem__(self, idx):\n",
        "        '''\n",
        "\n",
        "        :param idx: Index of the image file\n",
        "        :return: returns the image and corresponding label file.\n",
        "        '''\n",
        "        image, label = self.data[idx]\n",
        "        images = Variable(image).to(device, dtype=torch.float)\n",
        "        label = Variable(label).to(device, dtype=torch.long)\n",
        "        \n",
        "        return (images, label)"
      ],
      "execution_count": 0,
      "outputs": []
    },
    {
      "cell_type": "code",
      "metadata": {
        "id": "hvdu3i2WrNcZ",
        "colab_type": "code",
        "colab": {}
      },
      "source": [
        "# Diretório das imagens\n",
        "im_dir = 'workshop_esalq/data/class' \n",
        "\n",
        "imgs = np.array(sorted(os.listdir(im_dir)))\n",
        "\n",
        "im_train = np.arange(len(imgs))\n",
        "im_val = np.random.choice(im_train, 30, replace=False)\n",
        "im_train = np.setdiff1d(im_train,im_val)\n"
      ],
      "execution_count": 0,
      "outputs": []
    },
    {
      "cell_type": "code",
      "metadata": {
        "id": "yujzWgF9rtUg",
        "colab_type": "code",
        "colab": {}
      },
      "source": [
        "train_dataset =  MyDataset(im_dir, imgs[im_train])\n",
        "val_dataset =  MyDataset(im_dir, imgs[im_val])"
      ],
      "execution_count": 0,
      "outputs": []
    },
    {
      "cell_type": "code",
      "metadata": {
        "id": "4sALwqfoxZhU",
        "colab_type": "code",
        "colab": {}
      },
      "source": [
        "# Carrega o dataset de treinamento\n",
        "train_loader = torch.utils.data.DataLoader(train_dataset,\n",
        "                          batch_size=10,\n",
        "                          shuffle=True,\n",
        "                          num_workers=0\n",
        "                         )\n",
        "\n",
        "# Carrega o dataset de validação\n",
        "val_loader = torch.utils.data.DataLoader(val_dataset,\n",
        "                          batch_size=10,\n",
        "                          shuffle=False,\n",
        "                          num_workers=0\n",
        "                         )"
      ],
      "execution_count": 0,
      "outputs": []
    },
    {
      "cell_type": "code",
      "metadata": {
        "id": "j5WGQKUT0nS_",
        "colab_type": "code",
        "colab": {}
      },
      "source": [
        "n_classes = 3\n",
        "model = CNNModel(n_classes)\n",
        "model = model.to(device)\n",
        "liveloss = PlotLosses()"
      ],
      "execution_count": 0,
      "outputs": []
    },
    {
      "cell_type": "code",
      "metadata": {
        "id": "7lzke-t5-HjR",
        "colab_type": "code",
        "outputId": "84f1c04f-77e0-4ed3-ed5d-952cd9f4bec8",
        "colab": {
          "base_uri": "https://localhost:8080/",
          "height": 538
        }
      },
      "source": [
        "summary(model, input_size=(n_classes, 128, 128))\n"
      ],
      "execution_count": 0,
      "outputs": [
        {
          "output_type": "stream",
          "text": [
            "----------------------------------------------------------------\n",
            "        Layer (type)               Output Shape         Param #\n",
            "================================================================\n",
            "            Conv2d-1         [-1, 32, 128, 128]             896\n",
            "       BatchNorm2d-2         [-1, 32, 128, 128]              64\n",
            "         MaxPool2d-3           [-1, 32, 64, 64]               0\n",
            "              ReLU-4           [-1, 32, 64, 64]               0\n",
            "            Conv2d-5           [-1, 20, 64, 64]          16,020\n",
            "       BatchNorm2d-6           [-1, 20, 64, 64]              40\n",
            "         MaxPool2d-7           [-1, 20, 32, 32]               0\n",
            "              ReLU-8           [-1, 20, 32, 32]               0\n",
            "            Conv2d-9           [-1, 12, 32, 32]          11,772\n",
            "      BatchNorm2d-10           [-1, 12, 32, 32]              24\n",
            "        MaxPool2d-11           [-1, 12, 16, 16]               0\n",
            "             ReLU-12           [-1, 12, 16, 16]               0\n",
            "           Conv2d-13            [-1, 8, 16, 16]           7,784\n",
            "      BatchNorm2d-14            [-1, 8, 16, 16]              16\n",
            "        MaxPool2d-15              [-1, 8, 8, 8]               0\n",
            "             ReLU-16              [-1, 8, 8, 8]               0\n",
            "AdaptiveMaxPool2d-17              [-1, 8, 2, 2]               0\n",
            "           Linear-18                    [-1, 3]              99\n",
            "================================================================\n",
            "Total params: 36,715\n",
            "Trainable params: 36,715\n",
            "Non-trainable params: 0\n",
            "----------------------------------------------------------------\n",
            "Input size (MB): 0.19\n",
            "Forward/backward pass size (MB): 11.84\n",
            "Params size (MB): 0.14\n",
            "Estimated Total Size (MB): 12.16\n",
            "----------------------------------------------------------------\n"
          ],
          "name": "stdout"
        }
      ]
    },
    {
      "cell_type": "code",
      "metadata": {
        "id": "au3bqdoiz33E",
        "colab_type": "code",
        "colab": {}
      },
      "source": [
        "criterion = torch.nn.CrossEntropyLoss()\n",
        "learning_rate = 1e-4\n",
        "optimizer = torch.optim.Adam(model.parameters(), learning_rate, (0.9, 0.999), eps=1e-08, weight_decay=5e-4)"
      ],
      "execution_count": 0,
      "outputs": []
    },
    {
      "cell_type": "code",
      "metadata": {
        "id": "pwyvPGRs0l5t",
        "colab_type": "code",
        "outputId": "31233e5b-6e58-458e-e3d7-8bcc4b1e590d",
        "colab": {
          "base_uri": "https://localhost:8080/",
          "height": 393
        }
      },
      "source": [
        "min_loss = 1\n",
        "for epoch in range(101):\n",
        "    start_time = time.time()\n",
        "    epoch_loss = []\n",
        "    val_loss = []\n",
        "    \n",
        "    model.train()\n",
        "    for i, (images, labels) in enumerate(train_loader):\n",
        "        \n",
        "        # Limpa os gradientes\n",
        "        optimizer.zero_grad()\n",
        "    \n",
        "        # Obtem o output\n",
        "        outputs = model(images)\n",
        "\n",
        "        # Caulcula a perda pela loss function\n",
        "        loss = criterion(outputs, labels.reshape(-1))\n",
        "\n",
        "        # Obtem os gradientes\n",
        "        loss.backward()\n",
        "\n",
        "        # Atualiza os parâmetros\n",
        "        optimizer.step()\n",
        "        epoch_loss.append(loss.data.item())\n",
        "        \n",
        "    model.eval()\n",
        "    for i, (images, labels) in enumerate(val_loader):\n",
        "        with torch.no_grad():\n",
        "          # Obtem o output\n",
        "          outputs = model(images)\n",
        "\n",
        "        # Caulcula a perda pela loss function (MSE)\n",
        "        loss = criterion(outputs, labels.reshape(-1))\n",
        "\n",
        "        val_loss.append(loss.data.item())\n",
        "        \n",
        "    epoch_loss = np.array(epoch_loss).mean()\n",
        "    val_loss = np.array(val_loss).mean()\n",
        "    time_taken = time.time() - start_time\n",
        "    \n",
        "    if val_loss < min_loss:\n",
        "      #save the model\n",
        "      model_file_name = 'workshop_esalq/data/models/model_3class.pth'\n",
        "      torch.save(model.state_dict(), model_file_name)\n",
        "\n",
        "    liveloss.update({\n",
        "        'log loss': epoch_loss,\n",
        "        'val_log loss': val_loss\n",
        "    })\n",
        "    liveloss.draw()\n",
        "    print('[%d] loss: %.3f time:%.2f' % (epoch, epoch_loss, time_taken))"
      ],
      "execution_count": 0,
      "outputs": [
        {
          "output_type": "display_data",
          "data": {
            "image/png": "[encoded data removed]",
            "text/plain": [
              "<Figure size 864x576 with 1 Axes>"
            ]
          },
          "metadata": {
            "tags": []
          }
        },
        {
          "output_type": "stream",
          "text": [
            "log loss:\n",
            "training   (min:    0.010, max:    1.191, cur:    0.033)\n",
            "validation (min:    0.045, max:    0.991, cur:    0.106)\n",
            "[100] loss: 0.033 time:0.27\n"
          ],
          "name": "stdout"
        }
      ]
    },
    {
      "cell_type": "code",
      "metadata": {
        "id": "1a3B1OfZ2EwM",
        "colab_type": "code",
        "outputId": "9b4f10dc-725c-466c-9788-4852f967388b",
        "colab": {
          "base_uri": "https://localhost:8080/",
          "height": 34
        }
      },
      "source": [
        "n_classes = 3\n",
        "model = CNNModel(n_classes)\n",
        "model = model.to(device)\n",
        "\n",
        "# Carrega os pesos de um modelo salvo\n",
        "model.load_state_dict(torch.load('workshop_esalq/data/models/model_3class.pth', map_location=device))\n",
        "\n",
        "print('Modelo OK')"
      ],
      "execution_count": 0,
      "outputs": [
        {
          "output_type": "stream",
          "text": [
            "Modelo OK\n"
          ],
          "name": "stdout"
        }
      ]
    },
    {
      "cell_type": "code",
      "metadata": {
        "id": "e5tHUWze558V",
        "colab_type": "code",
        "outputId": "582d31fa-5180-49ce-f6a5-80a7e3f6b4bd",
        "colab": {
          "base_uri": "https://localhost:8080/",
          "height": 34
        }
      },
      "source": [
        "start_time = time.time()\n",
        "\n",
        "model.eval()\n",
        "obs = []\n",
        "preds = []\n",
        "for i, (images, labels) in enumerate(val_loader):\n",
        "    obs.append(labels.cpu().data.numpy())\n",
        "    with torch.no_grad():\n",
        "      pred = F.softmax(model(images), 1)\n",
        "    preds.append(pred.cpu().data.numpy())\n",
        "obs = np.concatenate(obs).reshape(-1)\n",
        "preds = np.concatenate(preds)\n",
        "\n",
        "          \n",
        "time_taken = time.time() - start_time\n",
        "print('time:%.2f' % (time_taken))\n"
      ],
      "execution_count": 0,
      "outputs": [
        {
          "output_type": "stream",
          "text": [
            "time:0.02\n"
          ],
          "name": "stdout"
        }
      ]
    },
    {
      "cell_type": "code",
      "metadata": {
        "id": "uxqri8y08kZa",
        "colab_type": "code",
        "outputId": "2ddbc9d6-2080-4be5-9fb9-bab8f36eead2",
        "colab": {
          "base_uri": "https://localhost:8080/",
          "height": 521
        }
      },
      "source": [
        "np.round(preds,3)"
      ],
      "execution_count": 0,
      "outputs": [
        {
          "output_type": "execute_result",
          "data": {
            "text/plain": [
              "array([[0.177, 0.801, 0.022],\n",
              "       [0.081, 0.911, 0.008],\n",
              "       [0.859, 0.093, 0.048],\n",
              "       [0.003, 0.001, 0.997],\n",
              "       [0.003, 0.003, 0.994],\n",
              "       [0.012, 0.016, 0.972],\n",
              "       [0.083, 0.901, 0.015],\n",
              "       [0.003, 0.003, 0.993],\n",
              "       [0.088, 0.876, 0.036],\n",
              "       [0.147, 0.839, 0.014],\n",
              "       [0.091, 0.051, 0.858],\n",
              "       [0.982, 0.006, 0.012],\n",
              "       [0.011, 0.016, 0.973],\n",
              "       [0.004, 0.006, 0.99 ],\n",
              "       [0.927, 0.023, 0.05 ],\n",
              "       [0.059, 0.887, 0.055],\n",
              "       [0.238, 0.747, 0.015],\n",
              "       [0.053, 0.928, 0.019],\n",
              "       [0.935, 0.031, 0.034],\n",
              "       [0.958, 0.018, 0.024],\n",
              "       [0.006, 0.006, 0.988],\n",
              "       [0.01 , 0.011, 0.979],\n",
              "       [0.949, 0.025, 0.026],\n",
              "       [0.03 , 0.043, 0.926],\n",
              "       [0.348, 0.638, 0.014],\n",
              "       [0.022, 0.011, 0.967],\n",
              "       [0.928, 0.02 , 0.052],\n",
              "       [0.084, 0.888, 0.028],\n",
              "       [0.133, 0.848, 0.019],\n",
              "       [0.239, 0.06 , 0.701]], dtype=float32)"
            ]
          },
          "metadata": {
            "tags": []
          },
          "execution_count": 46
        }
      ]
    },
    {
      "cell_type": "code",
      "metadata": {
        "id": "TvzldMm_7dEl",
        "colab_type": "code",
        "outputId": "aecfff76-07b0-462c-ee61-c58056ac3c2f",
        "colab": {
          "base_uri": "https://localhost:8080/",
          "height": 521
        }
      },
      "source": [
        "np.stack([obs, preds.argmax(1)]).transpose()"
      ],
      "execution_count": 0,
      "outputs": [
        {
          "output_type": "execute_result",
          "data": {
            "text/plain": [
              "array([[1, 1],\n",
              "       [1, 1],\n",
              "       [0, 0],\n",
              "       [2, 2],\n",
              "       [2, 2],\n",
              "       [2, 2],\n",
              "       [1, 1],\n",
              "       [2, 2],\n",
              "       [1, 1],\n",
              "       [1, 1],\n",
              "       [2, 2],\n",
              "       [0, 0],\n",
              "       [2, 2],\n",
              "       [2, 2],\n",
              "       [0, 0],\n",
              "       [1, 1],\n",
              "       [1, 1],\n",
              "       [1, 1],\n",
              "       [0, 0],\n",
              "       [0, 0],\n",
              "       [2, 2],\n",
              "       [2, 2],\n",
              "       [0, 0],\n",
              "       [2, 2],\n",
              "       [1, 1],\n",
              "       [2, 2],\n",
              "       [0, 0],\n",
              "       [1, 1],\n",
              "       [1, 1],\n",
              "       [2, 2]])"
            ]
          },
          "metadata": {
            "tags": []
          },
          "execution_count": 44
        }
      ]
    },
    {
      "cell_type": "code",
      "metadata": {
        "id": "lFO-E8Q8BIiW",
        "colab_type": "code",
        "colab": {}
      },
      "source": [
        ""
      ],
      "execution_count": 0,
      "outputs": []
    }
  ]
}