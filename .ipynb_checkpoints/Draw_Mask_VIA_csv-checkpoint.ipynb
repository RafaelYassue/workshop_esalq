{
 "cells": [
  {
   "cell_type": "markdown",
   "metadata": {
    "colab_type": "text",
    "id": "view-in-github"
   },
   "source": [
    "<a href=\"https://colab.research.google.com/github/RodrigoAgronomia/workshop_esalq/blob/master/Draw_Mask_VIA_csv.ipynb\" target=\"_parent\"><img src=\"https://colab.research.google.com/assets/colab-badge.svg\" alt=\"Open In Colab\"/></a>"
   ]
  },
  {
   "cell_type": "markdown",
   "metadata": {
    "colab_type": "text",
    "id": "dZ2oXcWwN233"
   },
   "source": [
    "Draw mask from VIA - .csv file"
   ]
  },
  {
   "cell_type": "code",
   "execution_count": 12,
   "metadata": {
    "colab": {
     "base_uri": "https://localhost:8080/",
     "height": 102
    },
    "colab_type": "code",
    "id": "JDoMj5lmOPVi",
    "outputId": "4c8e29e9-4d8e-4c40-d7d0-4fdb8f080b26"
   },
   "outputs": [
    {
     "name": "stdout",
     "output_type": "stream",
     "text": [
      "/content\n",
      "fatal: destination path 'workshop_esalq' already exists and is not an empty directory.\n",
      "/content/workshop_esalq\n",
      "Already up to date.\n",
      "/content/workshop_esalq/python\n"
     ]
    }
   ],
   "source": [
    "%cd /content\n",
    "!git clone --depth 1 https://github.com/RodrigoAgronomia/workshop_esalq.git\n",
    "%cd /content/workshop_esalq\n",
    "!git pull\n",
    "%cd /content/workshop_esalq/python"
   ]
  },
  {
   "cell_type": "code",
   "execution_count": 0,
   "metadata": {
    "colab": {},
    "colab_type": "code",
    "id": "wuq9h3msN237"
   },
   "outputs": [],
   "source": [
    "#Importação das bibliotecas necessárias para rodar o código\n",
    "%matplotlib inline\n",
    "\n",
    "import numpy as np\n",
    "import pandas as pd\n",
    "import cv2\n",
    "import os\n",
    "import matplotlib.pyplot as plt\n",
    "import re"
   ]
  },
  {
   "cell_type": "code",
   "execution_count": 0,
   "metadata": {
    "colab": {},
    "colab_type": "code",
    "id": "zYhbPGttN24A"
   },
   "outputs": [],
   "source": [
    "\n",
    "#Define o mapa de cores para geração da máscara\n",
    "def colorir(cat):\n",
    "    h, w = cat.shape[:2]\n",
    "    msk = np.zeros((h,w,3), dtype = 'uint8')\n",
    "    msk[cat == 1] = [255,255,255]\n",
    "    msk[cat == 2] = [128,0,0]\n",
    "    msk[cat == 3] = [255,0,0]\n",
    "    msk[cat == 4] = [0,128,0]\n",
    "    msk[cat == 5] = [0,255,0]\n",
    "    msk[cat == 6] = [0,0,255]\n",
    "    return(msk)"
   ]
  },
  {
   "cell_type": "code",
   "execution_count": 0,
   "metadata": {
    "colab": {},
    "colab_type": "code",
    "id": "feypSa7BdvCI"
   },
   "outputs": [],
   "source": [
    "def get_mask(imgt):\n",
    "    #Split Image in 3 channels\n",
    "    blue,green,red = cv2.split(imgt)\n",
    "    #Normalize values\n",
    "    green = np.divide(green,255)\n",
    "    red = np.divide(red,255)\n",
    "    blue = np.divide(blue,255)\n",
    "\n",
    "    #Sum of normalized values\n",
    "    norm = red+green+blue\n",
    "\n",
    "    r = np.divide(red, norm, out=np.zeros_like(red), where=norm!=0)\n",
    "    g = np.divide(green, norm, out=np.zeros_like(green), where=norm!=0)\n",
    "    b = np.divide(blue, norm, out=np.zeros_like(blue), where=norm!=0)\n",
    "    \n",
    "    #ExG - ExR\n",
    "    midx = ((2*g) - r - b) - ((1.4*r) - g)\n",
    "\n",
    "    #Binarize image\n",
    "    midx[midx<0] = 0\n",
    "    midx[midx>0] = 1\n",
    "    imager = (midx*255).astype('uint8')\n",
    "    return(imager)"
   ]
  },
  {
   "cell_type": "code",
   "execution_count": 0,
   "metadata": {
    "colab": {},
    "colab_type": "code",
    "id": "JAGc2gGZN24E"
   },
   "outputs": [],
   "source": [
    "#Definição das pastas necessárias para rodar o script\n",
    "img_dir = '../data/orig/Corn/'\n",
    "pts_dir = '../data/seg/pts/'\n",
    "pts_col_dir = '../data/seg/pts_col/'\n",
    "anotacao = '../data/via_region_data.csv'"
   ]
  },
  {
   "cell_type": "code",
   "execution_count": 0,
   "metadata": {
    "colab": {},
    "colab_type": "code",
    "id": "0L4hsOqlhHfj"
   },
   "outputs": [],
   "source": [
    "try:\n",
    "  os.mkdir('../data/seg/')\n",
    "  os.mkdir(pts_dir)\n",
    "  os.mkdir(pts_col_dir)\n",
    "except:\n",
    "  pass\n"
   ]
  },
  {
   "cell_type": "code",
   "execution_count": 23,
   "metadata": {
    "colab": {
     "base_uri": "https://localhost:8080/",
     "height": 54
    },
    "colab_type": "code",
    "id": "rMz3dQfsN24I",
    "outputId": "fef4faf2-5169-4b0a-adf4-8fffc95f572e"
   },
   "outputs": [
    {
     "name": "stdout",
     "output_type": "stream",
     "text": [
      "['DJI_0395.JPG', 'DJI_0408.JPG', 'DJI_0415.JPG', 'DJI_0410.JPG', 'DJI_0407.JPG', 'DJI_0419.JPG', 'DJI_0396.JPG', 'DJI_0406.JPG', 'DJI_0402.JPG', 'DJI_0421.JPG', 'DJI_0393.JPG', 'DJI_0392.JPG', 'DJI_0411.JPG', 'DJI_0417.JPG', 'DJI_0420.JPG', 'DJI_0414.JPG', 'DJI_0418.JPG', 'DJI_0405.JPG', 'DJI_0394.JPG', 'DJI_0404.JPG', 'DJI_0397.JPG', 'DJI_0399.JPG', 'DJI_0400.JPG', 'DJI_0413.JPG', 'DJI_0398.JPG', 'DJI_0409.JPG', 'DJI_0403.JPG', 'DJI_0401.JPG', 'DJI_0416.JPG', 'DJI_0412.JPG']\n"
     ]
    }
   ],
   "source": [
    "#Apresenta as imagens dentro do diretório com o respectivo formato da imagem\n",
    "img_list = os.listdir(img_dir)\n",
    "img_list = [v for v in img_list if v.endswith('.JPG')]\n",
    "print(img_list)"
   ]
  },
  {
   "cell_type": "code",
   "execution_count": 24,
   "metadata": {
    "colab": {
     "base_uri": "https://localhost:8080/",
     "height": 527
    },
    "colab_type": "code",
    "id": "rkCeOJ8iN24W",
    "outputId": "56ec1f3d-7067-4625-92ee-37ed77a96153"
   },
   "outputs": [
    {
     "name": "stdout",
     "output_type": "stream",
     "text": [
      "A imagem DJI_0395.JPG não possui anotação no .csv apresentado\n",
      "A imagem DJI_0408.JPG não possui anotação no .csv apresentado\n",
      "A imagem DJI_0415.JPG não possui anotação no .csv apresentado\n",
      "A imagem DJI_0410.JPG não possui anotação no .csv apresentado\n",
      "A imagem DJI_0407.JPG não possui anotação no .csv apresentado\n",
      "A imagem DJI_0419.JPG não possui anotação no .csv apresentado\n",
      "A imagem DJI_0396.JPG não possui anotação no .csv apresentado\n",
      "A imagem DJI_0406.JPG não possui anotação no .csv apresentado\n",
      "A imagem DJI_0402.JPG não possui anotação no .csv apresentado\n",
      "A imagem DJI_0421.JPG não possui anotação no .csv apresentado\n",
      "A imagem DJI_0393.JPG não possui anotação no .csv apresentado\n",
      "../data/seg/pts/DJI_0392.png\n",
      "A imagem DJI_0411.JPG não possui anotação no .csv apresentado\n",
      "A imagem DJI_0417.JPG não possui anotação no .csv apresentado\n",
      "A imagem DJI_0420.JPG não possui anotação no .csv apresentado\n",
      "A imagem DJI_0414.JPG não possui anotação no .csv apresentado\n",
      "A imagem DJI_0418.JPG não possui anotação no .csv apresentado\n",
      "A imagem DJI_0405.JPG não possui anotação no .csv apresentado\n",
      "A imagem DJI_0394.JPG não possui anotação no .csv apresentado\n",
      "A imagem DJI_0404.JPG não possui anotação no .csv apresentado\n",
      "A imagem DJI_0397.JPG não possui anotação no .csv apresentado\n",
      "A imagem DJI_0399.JPG não possui anotação no .csv apresentado\n",
      "A imagem DJI_0400.JPG não possui anotação no .csv apresentado\n",
      "A imagem DJI_0413.JPG não possui anotação no .csv apresentado\n",
      "A imagem DJI_0398.JPG não possui anotação no .csv apresentado\n",
      "A imagem DJI_0409.JPG não possui anotação no .csv apresentado\n",
      "A imagem DJI_0403.JPG não possui anotação no .csv apresentado\n",
      "A imagem DJI_0401.JPG não possui anotação no .csv apresentado\n",
      "A imagem DJI_0416.JPG não possui anotação no .csv apresentado\n",
      "A imagem DJI_0412.JPG não possui anotação no .csv apresentado\n"
     ]
    }
   ],
   "source": [
    "csv_file = pd.read_csv(anotacao,index_col = False) #Faz a leitura do arquivo .csv\n",
    "\n",
    "for img in img_list:\n",
    "    lista = csv_file[csv_file.filename == img] #Recebe os dados encontrados dentro do csv para a imagem em questão\n",
    "    tamanho = lista.shape\n",
    "    if tamanho[0] != 0:\n",
    "        imagem = cv2.imread(img_dir+img) #Carrega a imagem em questão\n",
    "\n",
    "        msk = np.zeros(imagem.shape[:2], dtype = 'uint8') #Carrega as informações do tamanho da imagem\n",
    "        # Cria uma mascara auxiliar para o desenho dos circulos ao redor das plantas:\n",
    "        msk0 = msk.copy()            \n",
    "        # Importa a mascara do indice de vegetacao:\n",
    "        mskk = get_mask(imagem)\n",
    "        mskk = (mskk > 100).astype('uint8') \n",
    "        msk_name = os.path.join(pts_dir, img.replace('.JPG', '.png')) #Faz a junção do diretório com o nome da imagem, alterando seu formato\n",
    "\n",
    "    \n",
    "        for i in range(tamanho[0]):\n",
    "            line = lista.iloc[i,:] #Recebe todas as marcações realizadas dentro daquela imagem\n",
    "            region_shape = line.region_shape_attributes #Informa a posição onde o ponto se encontra\n",
    "            region_attributes = (line.region_attributes) #Informa a classe do ponto\n",
    "            region_attributes = re.findall('\"([^\"]*)\"', region_attributes) #Faz a separação para encontrar a qual classe pertence o ponto marcado\n",
    "            coords = [float(s) for s in re.findall(r'-?\\d+\\.?\\d*', region_shape)] #Encontrando valores de x e y\n",
    "            cx = int(coords[0]) #Coordenadas no eixo X\n",
    "            cy = int(coords[1]) #Coordenadas no eixo y\n",
    "\n",
    "            #Define as classes aqui para realizar o desenho da máscara      \n",
    "            if region_attributes[1] == 'Corn':\n",
    "                cv2.circle(msk0, (cx,cy), 50, 2, -1)\n",
    "                \n",
    "            if region_attributes[1] == 'Corn':\n",
    "                cv2.circle(msk0, (cx,cy), 10, 6, -1)\n",
    "        \n",
    "        #Faz a combinação das mascaras na máscara principal\n",
    "        msk[(msk0==2)&(mskk==1)] = 2\n",
    "        msk[(msk0==6)&(mskk==1)] = 6\n",
    "                \n",
    "        print(msk_name) #Apresenta o nome da máscara com o diretório a ser salvo\n",
    "        cv2.imwrite(msk_name, msk) #Realiza o salvamento do background\n",
    "    \n",
    "        col_msk = colorir(msk) #Realiza a coloração da máscara\n",
    "        col_msk_name = os.path.join(pts_col_dir, img.replace('.JPG', '.png')) #Faz a junção do diretório com o nome da imagem, alterando seu formato\n",
    "        cv2.imwrite(col_msk_name, col_msk) #Realiza o salvamento da máscara já colorida\n",
    "        \n",
    "    else:\n",
    "        print('A imagem'+' '+img+' '+'não possui anotação no .csv apresentado') #Apresenta uma mensagem caso a imagem lida não apresente informações dentro do .csv"
   ]
  },
  {
   "cell_type": "code",
   "execution_count": 0,
   "metadata": {
    "colab": {},
    "colab_type": "code",
    "id": "LNs8pJwwN24f"
   },
   "outputs": [],
   "source": []
  },
  {
   "cell_type": "code",
   "execution_count": 0,
   "metadata": {
    "colab": {},
    "colab_type": "code",
    "id": "yaS7pqdMiD6m"
   },
   "outputs": [],
   "source": []
  }
 ],
 "metadata": {
  "accelerator": "GPU",
  "colab": {
   "collapsed_sections": [],
   "include_colab_link": true,
   "name": "Copy of Copy of Draw_Mask_VIA_csv.ipynb",
   "provenance": [],
   "version": "0.3.2"
  },
  "kernelspec": {
   "display_name": "Python 3",
   "language": "python",
   "name": "python3"
  },
  "language_info": {
   "codemirror_mode": {
    "name": "ipython",
    "version": 3
   },
   "file_extension": ".py",
   "mimetype": "text/x-python",
   "name": "python",
   "nbconvert_exporter": "python",
   "pygments_lexer": "ipython3",
   "version": "3.6.8"
  }
 },
 "nbformat": 4,
 "nbformat_minor": 1
}
